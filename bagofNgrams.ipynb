{
 "cells": [
  {
   "cell_type": "code",
   "execution_count": 17,
   "id": "201cfbd3-f639-40da-825b-0717c2bdfd98",
   "metadata": {},
   "outputs": [
    {
     "name": "stdout",
     "output_type": "stream",
     "text": [
      "KNN Accuracy: 0.5405405405405406\n",
      "Naive Bayes Accuracy: 0.8108108108108109\n"
     ]
    }
   ],
   "source": [
    "import pandas as pd\n",
    "from sklearn.feature_extraction.text import CountVectorizer\n",
    "from sklearn.model_selection import train_test_split\n",
    "from sklearn.neighbors import KNeighborsClassifier\n",
    "from sklearn.naive_bayes import MultinomialNB\n",
    "from sklearn.metrics import accuracy_score\n",
    "\n",
    "# CSV dosyasını oku\n",
    "df = pd.read_csv('duyguanalizi.csv',encoding='ISO-8859-9')\n",
    "\n",
    "# Veriyi eğitim ve test setlerine ayır\n",
    "X_train, X_test, y_train, y_test = train_test_split(df['YORUM'], df['SINIF'], test_size=0.2, random_state=42)\n",
    "\n",
    "# CountVectorizer kullanarak bag of N-grams oluştur\n",
    "vectorizer = CountVectorizer(ngram_range=(1, 2))\n",
    "X_train_vectorized = vectorizer.fit_transform(X_train)\n",
    "X_test_vectorized = vectorizer.transform(X_test)\n",
    "\n",
    "\n",
    "# KNN sınıflandırıcı\n",
    "knn_classifier = KNeighborsClassifier()\n",
    "knn_classifier.fit(X_train_vectorized, y_train)\n",
    "knn_predictions = knn_classifier.predict(X_test_vectorized)\n",
    "knn_accuracy = accuracy_score(y_test, knn_predictions)\n",
    "print(\"KNN Accuracy:\", knn_accuracy)\n",
    "\n",
    "# Naive Bayes sınıflandırıcı\n",
    "nb_classifier = MultinomialNB()\n",
    "nb_classifier.fit(X_train_vectorized, y_train)\n",
    "nb_predictions = nb_classifier.predict(X_test_vectorized)\n",
    "nb_accuracy = accuracy_score(y_test, nb_predictions)\n",
    "print(\"Naive Bayes Accuracy:\", nb_accuracy)\n"
   ]
  },
  {
   "cell_type": "code",
   "execution_count": null,
   "id": "e34d8f9e-41dd-495a-abc5-0f28610cd3be",
   "metadata": {},
   "outputs": [],
   "source": []
  },
  {
   "cell_type": "code",
   "execution_count": null,
   "id": "d1465b23-6dbe-42c7-b7ae-45ef24dc9b6c",
   "metadata": {},
   "outputs": [],
   "source": []
  },
  {
   "cell_type": "code",
   "execution_count": 16,
   "id": "fe9fa729-3e02-44f9-948b-8b55dfdb8ce8",
   "metadata": {},
   "outputs": [
    {
     "name": "stdout",
     "output_type": "stream",
     "text": [
      "  (0, 4)\t1\n",
      "  (0, 2)\t1\n",
      "  (0, 12)\t1\n",
      "  (0, 9)\t1\n",
      "  (0, 5)\t1\n",
      "  (0, 3)\t1\n",
      "  (0, 14)\t1\n",
      "  (1, 2)\t1\n",
      "  (1, 12)\t1\n",
      "  (1, 3)\t1\n",
      "  (1, 0)\t1\n",
      "  (1, 7)\t1\n",
      "  (1, 10)\t1\n",
      "  (1, 6)\t1\n",
      "  (1, 1)\t1\n",
      "  (1, 13)\t1\n",
      "  (1, 8)\t1\n",
      "  (1, 11)\t1\n",
      "['başka' 'başka bir' 'bir' 'bir örnek' 'bu' 'bu bir' 'bulunmaktadır'\n",
      " 'cümle' 'cümle de' 'cümledir' 'de' 'de bulunmaktadır' 'örnek'\n",
      " 'örnek cümle' 'örnek cümledir']\n"
     ]
    }
   ],
   "source": [
    "from sklearn.feature_extraction.text import CountVectorizer\n",
    "\n",
    "# Örnek metin verisi\n",
    "corpus = [\"Bu bir örnek cümledir.\", \"Başka bir örnek cümle de bulunmaktadır.\"]\n",
    "\n",
    "# CountVectorizer'ı kullanarak unigram ve bigram'ları oluştur\n",
    "vectorizer = CountVectorizer(ngram_range=(1, 2))\n",
    "X = vectorizer.fit_transform(corpus)\n",
    "print(X)\n",
    "# Oluşturulan öznitelik çantasını görüntüle\n",
    "print(vectorizer.get_feature_names_out())\n",
    "\n"
   ]
  },
  {
   "cell_type": "code",
   "execution_count": null,
   "id": "d8de3dee-0232-4701-b98a-4bb7e8024049",
   "metadata": {},
   "outputs": [],
   "source": []
  }
 ],
 "metadata": {
  "kernelspec": {
   "display_name": "Python 3 (ipykernel)",
   "language": "python",
   "name": "python3"
  },
  "language_info": {
   "codemirror_mode": {
    "name": "ipython",
    "version": 3
   },
   "file_extension": ".py",
   "mimetype": "text/x-python",
   "name": "python",
   "nbconvert_exporter": "python",
   "pygments_lexer": "ipython3",
   "version": "3.11.5"
  }
 },
 "nbformat": 4,
 "nbformat_minor": 5
}
