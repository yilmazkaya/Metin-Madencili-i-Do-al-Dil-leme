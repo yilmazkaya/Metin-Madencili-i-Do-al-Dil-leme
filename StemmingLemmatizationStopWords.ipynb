{
 "cells": [
  {
   "cell_type": "markdown",
   "id": "925cefd7",
   "metadata": {},
   "source": [
    "# Stemming Ve Lemmatization"
   ]
  },
  {
   "cell_type": "code",
   "execution_count": 14,
   "id": "e991a14d",
   "metadata": {},
   "outputs": [
    {
     "name": "stdout",
     "output_type": "stream",
     "text": [
      "Orjinal Cümle: The cats are running in the garden and playing with each OTHER.\n",
      "Tokenlar: ['cats', 'running', 'garden', 'playing']\n",
      "Stemmed Kelimeler: ['cat', 'run', 'garden', 'play']\n",
      "Lemmatized Kelimeler: ['cat', 'running', 'garden', 'playing']\n"
     ]
    }
   ],
   "source": [
    "from nltk.tokenize import word_tokenize\n",
    "from nltk.corpus import stopwords\n",
    "from nltk.stem import PorterStemmer, WordNetLemmatizer\n",
    "import string\n",
    "\n",
    "# İngilizce stopwords'leri yükleyin\n",
    "stop_words = set(stopwords.words('english'))\n",
    "\n",
    "# Örnek cümle\n",
    "sentence = \"The cats are running in the garden and playing with each OTHER.\"\n",
    "\n",
    "# Tokenization\n",
    "words = word_tokenize(sentence)\n",
    "\n",
    "# Küçük harfe dönüştürme ve noktalama işaretlerini kaldırma\n",
    "words = [word.lower() for word in words if word.isalnum()]\n",
    "\n",
    "# Stopwords'leri kaldırma\n",
    "words = [word for word in words if word not in stop_words]\n",
    "\n",
    "# Stemming (Kök çıkarma)\n",
    "porter_stemmer = PorterStemmer()\n",
    "stemmed_words = [porter_stemmer.stem(word) for word in words]\n",
    "\n",
    "# Lemmatization (Lematizasyon)\n",
    "wordnet_lemmatizer = WordNetLemmatizer()\n",
    "lemmatized_words = [wordnet_lemmatizer.lemmatize(word) for word in words]\n",
    "\n",
    "# Sonuçları yazdırma\n",
    "print(f\"Orjinal Cümle: {sentence}\")\n",
    "print(f\"Tokenlar: {words}\")\n",
    "print(f\"Stemmed Kelimeler: {stemmed_words}\")\n",
    "print(f\"Lemmatized Kelimeler: {lemmatized_words}\")\n"
   ]
  },
  {
   "cell_type": "code",
   "execution_count": 17,
   "id": "4fda87fe",
   "metadata": {},
   "outputs": [
    {
     "name": "stdout",
     "output_type": "stream",
     "text": [
      "Original Cümle: Kediler bahçede koşuyor ve birbirleriyle oynuyorlar.\n",
      "Tokenized Words: ['kediler', 'bahçede', 'koşuyor', 've', 'birbirleriyle', 'oynuyorlar']\n",
      "Stemmed Words: ['kedi', 'bahçe', 'koşuyor', 've', 'birbir', 'oynuyor']\n"
     ]
    }
   ],
   "source": [
    "from snowballstemmer import TurkishStemmer\n",
    "# Örnek cümle\n",
    "sentence = \"Kediler bahçede koşuyor ve birbirleriyle oynuyorlar.\"\n",
    "\n",
    "# Tokenization\n",
    "words = word_tokenize(sentence)\n",
    "\n",
    "# Küçük harfe dönüştürme ve noktalama işaretlerini kaldırma\n",
    "words = [word.lower() for word in words if word.isalnum()]\n",
    "\n",
    "turkishstem=TurkishStemmer()\n",
    "stemmed_words = [turkishstem.stemWord(word) for word in words]\n",
    "\n",
    "# Sonuçları yazdırma\n",
    "print(f\"Original Cümle: {sentence}\")\n",
    "print(f\"Tokenized Words: {words}\")\n",
    "print(f\"Stemmed Words: {stemmed_words}\")\n",
    "\n",
    "\n"
   ]
  },
  {
   "cell_type": "markdown",
   "id": "c7b6efbc",
   "metadata": {},
   "source": [
    "# StopWords"
   ]
  },
  {
   "cell_type": "code",
   "execution_count": 18,
   "id": "6d54cfd8",
   "metadata": {},
   "outputs": [
    {
     "name": "stdout",
     "output_type": "stream",
     "text": [
      "Original Sentences:\n",
      "- an example of a short sentence\n",
      "- a second short sentence\n",
      "\n",
      "Processed Sentences (Stopwords Removed):\n",
      "- example short sentence\n",
      "- second short sentence\n"
     ]
    }
   ],
   "source": [
    "from nltk.tokenize import word_tokenize\n",
    "from nltk.corpus import stopwords\n",
    "\n",
    "# Tokenization ve stopwords'leri kaldırma fonksiyonu\n",
    "def removeStopWords(documents):\n",
    "    stop_words = set(stopwords.words('english'))\n",
    "    result = []\n",
    "\n",
    "    for document in documents:\n",
    "        # Tokenization\n",
    "        words = word_tokenize(document)\n",
    "        \n",
    "        # Stopwords'leri kaldırma\n",
    "        filtered_words = [word for word in words if word.lower() not in stop_words]\n",
    "        \n",
    "        # Temizlenmiş cümleyi result listesine ekleme\n",
    "        result.append(\" \".join(filtered_words))\n",
    "    \n",
    "    return result\n",
    "\n",
    "# Örnek cümleler\n",
    "cumleler = [\n",
    "    \"an example of a short sentence\",\n",
    "    \"a second short sentence\"\n",
    "]\n",
    "\n",
    "# Tokenization ve stopwords'leri kaldırma işlemi\n",
    "yeni = removeStopWords(cumleler)\n",
    "\n",
    "# Sonuçları yazdırma\n",
    "print(\"Original Sentences:\")\n",
    "for cumle in cumleler:\n",
    "    print(f\"- {cumle}\")\n",
    "\n",
    "print(\"\\nProcessed Sentences (Stopwords Removed):\")\n",
    "for cumle in yeni:\n",
    "    print(f\"- {cumle}\")\n"
   ]
  },
  {
   "cell_type": "markdown",
   "id": "cf201942",
   "metadata": {},
   "source": [
    "# Belirtilen Kelimelerin Atılması, Belli uzunluktaki keimelern Atılması"
   ]
  },
  {
   "cell_type": "code",
   "execution_count": 19,
   "id": "d24173e9",
   "metadata": {},
   "outputs": [
    {
     "name": "stdout",
     "output_type": "stream",
     "text": [
      "Orjinal Cümleler :\n",
      "- an example of a short sentence\n",
      "- a second short sentence\n",
      "\n",
      "Uzun Kelimelerin Atılması:\n",
      "- an example of a short\n",
      "- a second short\n",
      "\n",
      "Kısa Kelimelerin Atılması:\n",
      "- an example of short sentence\n",
      "- second short sentence\n",
      "\n",
      "Belirtilen Keimelerin Atılması:\n",
      "- an example of a sentence\n",
      "- a sentence\n"
     ]
    }
   ],
   "source": [
    "from nltk.tokenize import word_tokenize\n",
    "\n",
    "# Tokenization fonksiyonu\n",
    "def tokenizedDocument(documents):\n",
    "    result = []\n",
    "    for document in documents:\n",
    "        words = word_tokenize(document)\n",
    "        result.append(words)\n",
    "    return result\n",
    "\n",
    "# Uzun kelimeleri kaldıran fonksiyon\n",
    "def removeLongWords(documents, max_length):\n",
    "    result = []\n",
    "    for document in documents:\n",
    "        filtered_words = [word for word in document if len(word) <= max_length]\n",
    "        result.append(filtered_words)\n",
    "    return result\n",
    "\n",
    "# Kısa kelimeleri kaldıran fonksiyon\n",
    "def removeShortWords(documents, min_length):\n",
    "    result = []\n",
    "    for document in documents:\n",
    "        filtered_words = [word for word in document if len(word) >= min_length]\n",
    "        result.append(filtered_words)\n",
    "    return result\n",
    "\n",
    "# Belirli kelimeleri kaldıran fonksiyon\n",
    "def removeWords(documents, words_to_remove):\n",
    "    result = []\n",
    "    for document in documents:\n",
    "        filtered_words = [word for word in document if word not in words_to_remove]\n",
    "        result.append(filtered_words)\n",
    "    return result\n",
    "\n",
    "# Örnek cümleler\n",
    "cumleler = [\n",
    "    \"an example of a short sentence\",\n",
    "    \"a second short sentence\"\n",
    "]\n",
    "\n",
    "# Tokenization işlemi\n",
    "dokuman = tokenizedDocument(cumleler)\n",
    "\n",
    "# Uzun kelimeleri kaldırma işlemi\n",
    "uzun = removeLongWords(dokuman, 7)\n",
    "\n",
    "# Kısa kelimeleri kaldırma işlemi\n",
    "kisa = removeShortWords(dokuman, 2)\n",
    "\n",
    "# Belirli kelimeleri kaldırma işlemi\n",
    "kelimeler = [\"short\", \"second\"]\n",
    "istenilenkelimeatimi = removeWords(dokuman, kelimeler)\n",
    "\n",
    "# Sonuçları yazdırma\n",
    "print(\"Orjinal Cümleler :\")\n",
    "for cumle in cumleler:\n",
    "    print(f\"- {cumle}\")\n",
    "\n",
    "print(\"\\nUzun Kelimelerin Atılması:\")\n",
    "for filtered_cumle in uzun:\n",
    "    print(f\"- {' '.join(filtered_cumle)}\")\n",
    "\n",
    "print(\"\\nKısa Kelimelerin Atılması:\")\n",
    "for filtered_cumle in kisa:\n",
    "    print(f\"- {' '.join(filtered_cumle)}\")\n",
    "\n",
    "print(\"\\nBelirtilen Keimelerin Atılması:\")\n",
    "for filtered_cumle in istenilenkelimeatimi:\n",
    "    print(f\"- {' '.join(filtered_cumle)}\")\n"
   ]
  },
  {
   "cell_type": "code",
   "execution_count": null,
   "id": "2fec012a",
   "metadata": {},
   "outputs": [],
   "source": []
  }
 ],
 "metadata": {
  "kernelspec": {
   "display_name": "Python 3 (ipykernel)",
   "language": "python",
   "name": "python3"
  },
  "language_info": {
   "codemirror_mode": {
    "name": "ipython",
    "version": 3
   },
   "file_extension": ".py",
   "mimetype": "text/x-python",
   "name": "python",
   "nbconvert_exporter": "python",
   "pygments_lexer": "ipython3",
   "version": "3.11.5"
  }
 },
 "nbformat": 4,
 "nbformat_minor": 5
}
