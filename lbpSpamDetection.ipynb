{
 "cells": [
  {
   "cell_type": "code",
   "execution_count": 43,
   "id": "1e53919d",
   "metadata": {},
   "outputs": [
    {
     "name": "stdout",
     "output_type": "stream",
     "text": [
      "[ 0.34119835 -1.06211718 -1.48387907 -0.59026846  0.19489659  0.64636504\n",
      " -0.25015569  0.11398083  0.42841865 -0.29300531 -0.61180795 -0.15955416\n",
      " -1.20707574  0.63451149 -0.59701931  1.19608933 -0.25744779  0.17206486\n",
      " -1.12125451 -0.37187384  0.07164407  2.66712465  1.17039283 -0.45275612\n",
      "  0.52246342  0.92961672 -0.81498648  0.90040386  0.42882892 -1.38118272\n",
      "  0.54906281  0.08908265  0.03264905 -0.177779    0.52809438  1.51963625\n",
      " -0.79901864 -2.36707502  0.50737232  0.17852863  1.72300647 -0.43386617\n",
      "  1.71782669  0.54135538  0.10563704  1.3426537   0.80793468  0.91919896\n",
      "  0.01307349 -1.18337286  0.18067111 -1.60239973  0.46186919 -0.62584466\n",
      "  1.21972586  0.07482265 -1.09900757  0.19035591  1.91600073  0.4183303\n",
      "  0.47947343 -0.52271992 -0.91604598 -0.26754477  0.9722494   0.20501059\n",
      "  0.17418548 -1.3567568   0.57742687  0.92129073  0.02407163 -0.15490437\n",
      " -1.00531815 -0.2707591   0.3826001  -0.65993181 -0.87703393  0.60314232\n",
      "  1.08869305 -0.83620552  1.62817657  0.52194395  0.98498942  1.13630708\n",
      " -1.46620049  1.63211612  0.97174726  0.89606037 -0.76436605  0.08448956\n",
      "  0.89993625  0.08543464 -0.44862129 -0.50878093  0.1082021  -1.36919212\n",
      " -0.91715324  1.64745408 -1.28383954 -0.8536386 ]\n",
      "Binary Map:\n",
      "[14, 12, 72, 64, 32, 144, 192, 224, 240, 112, 176, 80, 160, 80, 160, 208, 96, 48, 16, 128, 64, 32, 144, 64, 32, 144, 64, 32, 16, 128, 64, 32, 144, 192, 96, 48, 16, 128, 64, 32, 16, 0, 0, 0, 0, 128, 64, 160, 80, 160, 80, 32, 144, 64, 32, 16, 0, 128, 192, 224, 112, 48, 16, 128, 64, 32, 16, 128, 192, 224, 112, 176, 208, 96, 48, 144, 64, 32, 16, 0, 128, 64, 32, 16, 128, 64, 32, 16, 128, 192, 96, 176, 208, 96, 176, 208, 96, 48, 16, 0]\n"
     ]
    }
   ],
   "source": [
    "import numpy as np\n",
    "\n",
    "def lbp_1d(signal, komsuluk):\n",
    "    binmap = []\n",
    "\n",
    "    l = len(signal)\n",
    "\n",
    "    for i in range(l):\n",
    "        kon = np.zeros(2 * komsuluk)\n",
    "        kon[:min(komsuluk, i + 1)] = signal[max(0, i - komsuluk + 1):i + 1]\n",
    "\n",
    "        dat = np.zeros(2 * komsuluk)\n",
    "        start_index = max(0, i - komsuluk + 1)\n",
    "        end_index = min(i + komsuluk + 1, l)  # Fixed the end_index calculation\n",
    "        dat[:end_index - start_index] = signal[start_index:end_index]\n",
    "\n",
    "        binmap.append((kon > dat).astype(int))\n",
    "\n",
    "    binmap = [int(''.join(map(str, binmap[i][::-1])), 2) for i in range(len(binmap))]  # Reverse the order\n",
    "\n",
    "    return binmap\n",
    "\n",
    "# Example usage:\n",
    "signal_example = np.random.randn(100)\n",
    "komsuluk_example = 4\n",
    "result_binmap = lbp_1d(signal_example, komsuluk_example)\n",
    "\n",
    "print(signal_example)\n",
    "print(\"Binary Map:\")\n",
    "print(result_binmap)\n"
   ]
  },
  {
   "cell_type": "code",
   "execution_count": 39,
   "id": "c6c0c974",
   "metadata": {},
   "outputs": [
    {
     "name": "stdout",
     "output_type": "stream",
     "text": [
      "(1233, 257)\n"
     ]
    }
   ],
   "source": [
    "import numpy as np\n",
    "from collections import Counter\n",
    "\n",
    "with open('spam/D1.txt', 'r') as file:\n",
    "    A = file.readlines()\n",
    "\n",
    "with open('spam/D2.txt', 'r') as file:\n",
    "    B = file.readlines()\n",
    "\n",
    "features = []\n",
    "komsuluk=4\n",
    "for i in range(len(A)):\n",
    "    dosya = A[i].strip()\n",
    "    bytes = [ord(char) for char in dosya]\n",
    "\n",
    "    if len(bytes) > 10:\n",
    "        veri = bytes\n",
    "\n",
    "        b = lbp_1d(veri,komsuluk )\n",
    "        count = dict(Counter(b))\n",
    "\n",
    "        if B[i].strip() == 'ham':\n",
    "            label = 1\n",
    "        else:\n",
    "            label = 0\n",
    "\n",
    "        # Ensure all 'count' arrays have the same length\n",
    "        max_length = 256\n",
    "        padded_count = np.zeros(max_length)\n",
    "        padded_count[list(count.keys())] = list(count.values())\n",
    "\n",
    "        features.append(np.concatenate((padded_count, [label])))\n",
    "\n",
    "# Convert the features list to a NumPy array\n",
    "features = np.array(features)\n",
    "\n",
    "# Print or use the 'features' array as needed\n",
    "print(features.shape)\n"
   ]
  },
  {
   "cell_type": "code",
   "execution_count": 44,
   "id": "335e6b51",
   "metadata": {},
   "outputs": [
    {
     "name": "stdout",
     "output_type": "stream",
     "text": [
      "KNN Başarı: 0.8918918918918919\n",
      "KNN Karışıklık Matrisi:\n",
      "[[ 67  17]\n",
      " [ 23 263]]\n",
      "Naive Bayes Başarı 0.8756756756756757\n",
      "Naive Bayes Karışıklık Matrisi:\n",
      "[[ 70  14]\n",
      " [ 32 254]]\n"
     ]
    }
   ],
   "source": [
    "from sklearn.model_selection import train_test_split\n",
    "from sklearn.neighbors import KNeighborsClassifier\n",
    "from sklearn.naive_bayes import GaussianNB\n",
    "from sklearn.metrics import accuracy_score\n",
    "from sklearn.metrics import confusion_matrix\n",
    "import seaborn as sns\n",
    "import matplotlib.pyplot as plt\n",
    "\n",
    "\n",
    "# Giriş öznitelikleri ve çıkış sütununu ayırma\n",
    "X = features[:, :features.shape[1]-1]  \n",
    "y = features[:, features.shape[1]-1]   # Son sütun çıkış\n",
    "\n",
    "\n",
    "# Veriyi eğitim ve test setlerine bölelim\n",
    "X_train, X_test, y_train, y_test = train_test_split(X, y, test_size=0.3, random_state=42)\n",
    "\n",
    "# KNN sınıflandırıcı\n",
    "knn_classifier = KNeighborsClassifier(n_neighbors=3)\n",
    "knn_classifier.fit(X_train, y_train)\n",
    "knn_predictions = knn_classifier.predict(X_test)\n",
    "knn_accuracy = accuracy_score(y_test, knn_predictions)\n",
    "print(\"KNN Başarı:\", knn_accuracy)\n",
    "\n",
    "knn_conf_matrix = confusion_matrix(y_test, knn_predictions)\n",
    "print(\"KNN Karışıklık Matrisi:\")\n",
    "print(knn_conf_matrix)\n",
    "\n",
    "# Naive Bayes sınıflandırıcı\n",
    "nb_classifier = GaussianNB()\n",
    "nb_classifier.fit(X_train, y_train)\n",
    "nb_predictions = nb_classifier.predict(X_test)\n",
    "nb_accuracy = accuracy_score(y_test, nb_predictions)\n",
    "print(\"Naive Bayes Başarı\", nb_accuracy)\n",
    "\n",
    "nb_conf_matrix = confusion_matrix(y_test, nb_predictions)\n",
    "print(\"Naive Bayes Karışıklık Matrisi:\")\n",
    "print(nb_conf_matrix)"
   ]
  },
  {
   "cell_type": "code",
   "execution_count": null,
   "id": "fab6f83b",
   "metadata": {},
   "outputs": [],
   "source": []
  }
 ],
 "metadata": {
  "kernelspec": {
   "display_name": "Python 3 (ipykernel)",
   "language": "python",
   "name": "python3"
  },
  "language_info": {
   "codemirror_mode": {
    "name": "ipython",
    "version": 3
   },
   "file_extension": ".py",
   "mimetype": "text/x-python",
   "name": "python",
   "nbconvert_exporter": "python",
   "pygments_lexer": "ipython3",
   "version": "3.11.5"
  }
 },
 "nbformat": 4,
 "nbformat_minor": 5
}
