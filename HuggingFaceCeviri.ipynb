{
 "cells": [
  {
   "cell_type": "code",
   "execution_count": 10,
   "id": "e309171c-4bbf-4a39-93bd-dc4d60994587",
   "metadata": {},
   "outputs": [
    {
     "name": "stdout",
     "output_type": "stream",
     "text": [
      "Türkçe Cümle: Merhaba, nasılsınız?\n",
      "İngilizce Çeviri: Hi, how are you?\n"
     ]
    }
   ],
   "source": [
    "from transformers import pipeline\n",
    "\n",
    "translator = pipeline(task=\"translation\", model=\"Helsinki-NLP/opus-mt-tr-en\")\n",
    "\n",
    "# Türkçe cümleyi İngilizce'ye çevir\n",
    "turkish_text = \"Merhaba, nasılsınız?\"\n",
    "english_translation = translator(turkish_text, max_length=50)\n",
    "\n",
    "print(\"Türkçe Cümle:\", turkish_text)\n",
    "print(\"İngilizce Çeviri:\", english_translation[0][\"translation_text\"])\n"
   ]
  },
  {
   "cell_type": "markdown",
   "id": "f607a510-308b-484e-a380-5c13195ac3a7",
   "metadata": {},
   "source": []
  },
  {
   "cell_type": "code",
   "execution_count": 11,
   "id": "72cdfe30-24fb-43e1-b1ea-3d2c0fc89f4c",
   "metadata": {},
   "outputs": [
    {
     "name": "stdout",
     "output_type": "stream",
     "text": [
      "Hakan'ın bunu yemek istemediğini biliyorum.\n",
      "Pazar günleri erkenden kalkıp balık tutmaya giderdik.\n"
     ]
    }
   ],
   "source": [
    "from transformers import MarianMTModel, MarianTokenizer\n",
    "\n",
    "\n",
    "model_name = \"Helsinki-NLP/opus-mt-tc-big-en-tr\"\n",
    "tokenizer = MarianTokenizer.from_pretrained(model_name)\n",
    "model = MarianMTModel.from_pretrained(model_name)\n",
    "\n",
    "\n",
    "metinler = [\n",
    "    \"I know Hakan didn't want to eat that.\",\n",
    "    \"On Sundays, we would get up early and go fishing.\"\n",
    "]\n",
    "\n",
    "translated = model.generate(**tokenizer(metinler, return_tensors=\"pt\", padding=True))\n",
    "for t in translated:\n",
    "    print( tokenizer.decode(t, skip_special_tokens=True) )"
   ]
  },
  {
   "cell_type": "code",
   "execution_count": null,
   "id": "61b98be6-f757-4287-a9fe-80e3a4e50671",
   "metadata": {},
   "outputs": [],
   "source": []
  }
 ],
 "metadata": {
  "kernelspec": {
   "display_name": "Python 3 (ipykernel)",
   "language": "python",
   "name": "python3"
  },
  "language_info": {
   "codemirror_mode": {
    "name": "ipython",
    "version": 3
   },
   "file_extension": ".py",
   "mimetype": "text/x-python",
   "name": "python",
   "nbconvert_exporter": "python",
   "pygments_lexer": "ipython3",
   "version": "3.11.5"
  }
 },
 "nbformat": 4,
 "nbformat_minor": 5
}
