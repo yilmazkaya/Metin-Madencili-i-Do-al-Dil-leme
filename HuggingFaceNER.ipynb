{
 "cells": [
  {
   "cell_type": "code",
   "execution_count": 10,
   "id": "b80df638-c2e6-410c-9a46-1a80835ce461",
   "metadata": {},
   "outputs": [
    {
     "name": "stderr",
     "output_type": "stream",
     "text": [
      "All PyTorch model weights were used when initializing TFBertForTokenClassification.\n",
      "\n",
      "All the weights of TFBertForTokenClassification were initialized from the PyTorch model.\n",
      "If your task is similar to the task the model of the checkpoint was trained on, you can already use TFBertForTokenClassification for predictions without further training.\n"
     ]
    },
    {
     "name": "stdout",
     "output_type": "stream",
     "text": [
      "[{'entity': 'B-PER', 'score': 0.99935144, 'index': 1, 'word': 'Yunus', 'start': 0, 'end': 5}, {'entity': 'I-PER', 'score': 0.99902344, 'index': 2, 'word': 'Emre', 'start': 6, 'end': 10}, {'entity': 'B-LOC', 'score': 0.99724483, 'index': 3, 'word': 'İstanbul', 'start': 11, 'end': 19}, {'entity': 'B-LOC', 'score': 0.9962936, 'index': 8, 'word': 'Ankara', 'start': 29, 'end': 35}]\n",
      "Varlık: Yunus, Etiket: B-PER, Güven: 0.9994\n",
      "Varlık: Emre, Etiket: I-PER, Güven: 0.9990\n",
      "Varlık: İstanbul, Etiket: B-LOC, Güven: 0.9972\n",
      "Varlık: Ankara, Etiket: B-LOC, Güven: 0.9963\n"
     ]
    }
   ],
   "source": [
    "from transformers import pipeline\n",
    "\n",
    "# NER (Named Entity Recognition) modelini yükleyelim\n",
    "ner_pipeline = pipeline('ner', model='savasy/bert-base-turkish-ner-cased', tokenizer='savasy/bert-base-turkish-ner-cased')\n",
    "\n",
    "# Metni işleyelim\n",
    "text = \"Yunus Emre İstanbul'a gitti. Ankara bu aralar çok soğuk.\"\n",
    "ner_results = ner_pipeline(text)\n",
    "print(ner_results)\n",
    "# Tanınan varlıkları ekrana yazdıralım\n",
    "for result in ner_results:\n",
    "    print(f\"Varlık: {result['word']}, Etiket: {result['entity']}, Güven: {result['score']:.4f}\")\n"
   ]
  },
  {
   "cell_type": "code",
   "execution_count": 11,
   "id": "cc22669c-2bd2-45bb-b0dd-0bbfa9a8574c",
   "metadata": {},
   "outputs": [
    {
     "name": "stderr",
     "output_type": "stream",
     "text": [
      "Some weights of the PyTorch model were not used when initializing the TF 2.0 model TFBertForTokenClassification: ['bert.embeddings.position_ids']\n",
      "- This IS expected if you are initializing TFBertForTokenClassification from a PyTorch model trained on another task or with another architecture (e.g. initializing a TFBertForSequenceClassification model from a BertForPreTraining model).\n",
      "- This IS NOT expected if you are initializing TFBertForTokenClassification from a PyTorch model that you expect to be exactly identical (e.g. initializing a TFBertForSequenceClassification model from a BertForSequenceClassification model).\n",
      "All the weights of TFBertForTokenClassification were initialized from the PyTorch model.\n",
      "If your task is similar to the task the model of the checkpoint was trained on, you can already use TFBertForTokenClassification for predictions without further training.\n"
     ]
    },
    {
     "name": "stdout",
     "output_type": "stream",
     "text": [
      "Varlık: Yunus, Etiket: B-PER, Güven: 0.9960\n",
      "Varlık: Emre, Etiket: I-PER, Güven: 0.9927\n",
      "Varlık: İstanbul, Etiket: B-LOC, Güven: 0.9988\n",
      "Varlık: Ankara, Etiket: B-LOC, Güven: 0.9984\n"
     ]
    }
   ],
   "source": [
    "from transformers import pipeline\n",
    "\n",
    "# NER (Named Entity Recognition) modelini yükleyelim\n",
    "ner_pipeline = pipeline('ner', model='akdeniz27/bert-base-turkish-cased-ner', tokenizer='akdeniz27/bert-base-turkish-cased-ner')\n",
    "\n",
    "# Metni işleyelim\n",
    "text = \"Yunus Emre İstanbul'a gitti. Ankara bu aralar çok soğuk.\"\n",
    "ner_results = ner_pipeline(text)\n",
    "\n",
    "# Tanınan varlıkları ekrana yazdıralım\n",
    "for result in ner_results:\n",
    "    print(f\"Varlık: {result['word']}, Etiket: {result['entity']}, Güven: {result['score']:.4f}\")\n"
   ]
  },
  {
   "cell_type": "code",
   "execution_count": null,
   "id": "98585c54-4d2b-4e02-b734-d47538899b19",
   "metadata": {},
   "outputs": [],
   "source": []
  }
 ],
 "metadata": {
  "kernelspec": {
   "display_name": "Python 3 (ipykernel)",
   "language": "python",
   "name": "python3"
  },
  "language_info": {
   "codemirror_mode": {
    "name": "ipython",
    "version": 3
   },
   "file_extension": ".py",
   "mimetype": "text/x-python",
   "name": "python",
   "nbconvert_exporter": "python",
   "pygments_lexer": "ipython3",
   "version": "3.11.5"
  }
 },
 "nbformat": 4,
 "nbformat_minor": 5
}
