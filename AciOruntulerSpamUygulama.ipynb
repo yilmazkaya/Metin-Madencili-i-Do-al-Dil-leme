{
 "cells": [
  {
   "cell_type": "code",
   "execution_count": 15,
   "id": "f1e1b332",
   "metadata": {},
   "outputs": [
    {
     "name": "stdout",
     "output_type": "stream",
     "text": [
      "[  0 358   2 357   1 314]\n"
     ]
    }
   ],
   "source": [
    "import numpy as np\n",
    "\n",
    "\n",
    "def aci(data, R, L):\n",
    "    dt = []\n",
    "    N = len(data)\n",
    "    data = np.column_stack((np.arange(1, N+1), data))  # Creating a matrix with indices and data\n",
    "    \n",
    "    for i in range(1 + L, N - R + 1):\n",
    "        P = data[i - L - 1:i + R, :]\n",
    "        P = P.astype(float)\n",
    "        ang = np.arctan2(np.linalg.det([P[0, :] - P[1, :], P[1, :] - P[2, :]]), np.dot(P[0, :] - P[1, :], P[1, :] - P[2, :]))\n",
    "        deger = 180 + int(np.floor(ang * 180 / np.pi))\n",
    "        dt.append(deger)\n",
    "    \n",
    "    return np.array(dt)\n",
    "\n",
    "# example Usage:\n",
    "data_example = [13, 256, 3, 44, 5, 65, 7, 8, 9]\n",
    "R_example = 2\n",
    "L_example = 1\n",
    "result = aci(data_example, R_example, L_example)\n",
    "print(result)\n"
   ]
  },
  {
   "cell_type": "code",
   "execution_count": 20,
   "id": "72b2e1b6",
   "metadata": {},
   "outputs": [
    {
     "name": "stdout",
     "output_type": "stream",
     "text": [
      "(1233, 361)\n"
     ]
    }
   ],
   "source": [
    "import numpy as np\n",
    "from collections import Counter\n",
    "\n",
    "\n",
    "L=2\n",
    "R=2\n",
    "with open('spam/D1.txt', 'r') as file:\n",
    "    A = file.readlines()\n",
    "\n",
    "with open('spam/D2.txt', 'r') as file:\n",
    "    B = file.readlines()\n",
    "\n",
    "features = []\n",
    "\n",
    "for i in range(len(A)):\n",
    "    dosya = A[i].strip()\n",
    "    bytes = [ord(char) for char in dosya]\n",
    "\n",
    "    if len(bytes) > 10:\n",
    "        veri = bytes\n",
    "\n",
    "        b = aci(veri, L, R)\n",
    "        count = dict(Counter(b))\n",
    "\n",
    "        if B[i].strip() == 'ham':\n",
    "            label = 1\n",
    "        else:\n",
    "            label = 0\n",
    "\n",
    "        # Ensure all 'count' arrays have the same length\n",
    "        max_length = 360\n",
    "        padded_count = np.zeros(max_length)\n",
    "        padded_count[list(count.keys())] = list(count.values())\n",
    "\n",
    "        features.append(np.concatenate((padded_count, [label])))\n",
    "\n",
    "# Convert the features list to a NumPy array\n",
    "features = np.array(features)\n",
    "\n",
    "# Print or use the 'features' array as needed\n",
    "print(features.shape)\n"
   ]
  },
  {
   "cell_type": "code",
   "execution_count": 21,
   "id": "5eb19d59",
   "metadata": {},
   "outputs": [
    {
     "name": "stdout",
     "output_type": "stream",
     "text": [
      "KNN Başarı: 0.9027027027027027\n",
      "KNN Karışıklık Matrisi:\n",
      "[[ 48  36]\n",
      " [  0 286]]\n",
      "Naive Bayes Başarı 0.8918918918918919\n",
      "Naive Bayes Karışıklık Matrisi:\n",
      "[[ 80   4]\n",
      " [ 36 250]]\n"
     ]
    }
   ],
   "source": [
    "from sklearn.model_selection import train_test_split\n",
    "from sklearn.neighbors import KNeighborsClassifier\n",
    "from sklearn.naive_bayes import GaussianNB\n",
    "from sklearn.metrics import accuracy_score\n",
    "from sklearn.metrics import confusion_matrix\n",
    "import seaborn as sns\n",
    "import matplotlib.pyplot as plt\n",
    "\n",
    "\n",
    "# Giriş öznitelikleri ve çıkış sütununu ayırma\n",
    "X = features[:, :features.shape[1]-1]  \n",
    "y = features[:, features.shape[1]-1]   # Son sütun çıkış\n",
    "\n",
    "\n",
    "# Veriyi eğitim ve test setlerine bölelim\n",
    "X_train, X_test, y_train, y_test = train_test_split(X, y, test_size=0.3, random_state=42)\n",
    "\n",
    "# KNN sınıflandırıcı\n",
    "knn_classifier = KNeighborsClassifier(n_neighbors=5)\n",
    "knn_classifier.fit(X_train, y_train)\n",
    "knn_predictions = knn_classifier.predict(X_test)\n",
    "knn_accuracy = accuracy_score(y_test, knn_predictions)\n",
    "print(\"KNN Başarı:\", knn_accuracy)\n",
    "\n",
    "knn_conf_matrix = confusion_matrix(y_test, knn_predictions)\n",
    "print(\"KNN Karışıklık Matrisi:\")\n",
    "print(knn_conf_matrix)\n",
    "\n",
    "# Naive Bayes sınıflandırıcı\n",
    "nb_classifier = GaussianNB()\n",
    "nb_classifier.fit(X_train, y_train)\n",
    "nb_predictions = nb_classifier.predict(X_test)\n",
    "nb_accuracy = accuracy_score(y_test, nb_predictions)\n",
    "print(\"Naive Bayes Başarı\", nb_accuracy)\n",
    "\n",
    "nb_conf_matrix = confusion_matrix(y_test, nb_predictions)\n",
    "print(\"Naive Bayes Karışıklık Matrisi:\")\n",
    "print(nb_conf_matrix)"
   ]
  },
  {
   "cell_type": "code",
   "execution_count": null,
   "id": "4e45ad8e",
   "metadata": {},
   "outputs": [],
   "source": []
  }
 ],
 "metadata": {
  "kernelspec": {
   "display_name": "Python 3 (ipykernel)",
   "language": "python",
   "name": "python3"
  },
  "language_info": {
   "codemirror_mode": {
    "name": "ipython",
    "version": 3
   },
   "file_extension": ".py",
   "mimetype": "text/x-python",
   "name": "python",
   "nbconvert_exporter": "python",
   "pygments_lexer": "ipython3",
   "version": "3.11.5"
  }
 },
 "nbformat": 4,
 "nbformat_minor": 5
}
