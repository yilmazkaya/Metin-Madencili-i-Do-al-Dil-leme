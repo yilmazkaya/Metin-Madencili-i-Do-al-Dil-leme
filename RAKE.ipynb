{
 "cells": [
  {
   "cell_type": "code",
   "execution_count": 7,
   "id": "0b1c21d5-1aa2-49fa-a81b-dfcd68b537d3",
   "metadata": {},
   "outputs": [
    {
     "name": "stdout",
     "output_type": "stream",
     "text": [
      "especially deep learning models like neural networks (46.5)\n",
      "humans using natural language (15.0)\n",
      "rapidly evolving field (9.0)\n",
      "protecting sensitive information (9.0)\n",
      "popular programming languages (9.0)\n",
      "natural language processing (9.0)\n",
      "involves connecting devices (9.0)\n",
      "gained significant attention (9.0)\n",
      "extract valuable insights (9.0)\n",
      "analyzing large datasets (9.0)\n",
      "big data analytics (8.333333333333334)\n",
      "machine learning (6.5)\n",
      "share data (4.333333333333334)\n",
      "data science (4.333333333333334)\n",
      "various industries (4.0)\n",
      "top priority (4.0)\n",
      "technology advances (4.0)\n",
      "recent years (4.0)\n",
      "ongoing concern (4.0)\n",
      "artificial intelligence (4.0)\n",
      "processing (2.0)\n",
      "things (1.0)\n",
      "subset (1.0)\n",
      "r (1.0)\n",
      "python (1.0)\n",
      "nlp (1.0)\n",
      "ml (1.0)\n",
      "iot (1.0)\n",
      "internet (1.0)\n",
      "internet (1.0)\n",
      "interaction (1.0)\n",
      "focuses (1.0)\n",
      "cybersecurity (1.0)\n",
      "crucial (1.0)\n",
      "computers (1.0)\n",
      "collect (1.0)\n",
      "applications (1.0)\n",
      "ai (1.0)\n",
      "ai (1.0)\n",
      "ai (1.0)\n"
     ]
    }
   ],
   "source": [
    "from rake_nltk import Rake\n",
    "\n",
    "# Örnek metin\n",
    "karisik_metin = \"\"\"\n",
    "Artificial intelligence (AI) is a rapidly evolving field with applications in various industries. \n",
    "Natural language processing (NLP) is a subset of AI that focuses on the interaction between computers and humans using natural language. \n",
    "In recent years, machine learning (ML) has gained significant attention, especially deep learning models like neural networks. \n",
    "Python and R are popular programming languages for AI and data science. \n",
    "The internet of things (IoT) involves connecting devices to the internet to collect and share data. \n",
    "Big data analytics is crucial for processing and analyzing large datasets to extract valuable insights. \n",
    "Cybersecurity is an ongoing concern as technology advances, and protecting sensitive information is a top priority.\n",
    "\"\"\"\n",
    "\n",
    "# Rake sınıfını oluştur\n",
    "rake = Rake()\n",
    "\n",
    "# Anahtar kelimeleri çıkar\n",
    "rake.extract_keywords_from_text(karisik_metin)\n",
    "\n",
    "# Puanlanmış anahtar kelimeleri al\n",
    "anahtar_kelimeler = rake.get_ranked_phrases_with_scores()\n",
    "\n",
    "# Sonuçları ekrana yazdır\n",
    "for skor, kelime in anahtar_kelimeler:\n",
    "    print(f\"{kelime} ({skor})\")\n",
    "\n"
   ]
  },
  {
   "cell_type": "code",
   "execution_count": 8,
   "id": "deabff9e-c659-4334-a622-4affcb55ef7d",
   "metadata": {},
   "outputs": [
    {
     "name": "stdout",
     "output_type": "stream",
     "text": [
      "versatile programming language (9.0)\n",
      "natural language processing (9.0)\n",
      "widely used (4.0)\n",
      "web development (4.0)\n",
      "machine learning (4.0)\n",
      "large community (4.0)\n",
      "key areas (4.0)\n",
      "data science (4.0)\n",
      "automation tasks (4.0)\n",
      "artificial intelligence (4.0)\n",
      "also used (4.0)\n",
      "python (1.0)\n",
      "python (1.0)\n",
      "learn (1.0)\n",
      "easy (1.0)\n",
      "developers (1.0)\n",
      "applied (1.0)\n"
     ]
    }
   ],
   "source": [
    "from rake_nltk import Rake\n",
    "\n",
    "# Örnek metin\n",
    "ornek_metin = \"\"\"\n",
    "Python is a versatile programming language that is widely used in data science and artificial intelligence. \n",
    "It is easy to learn and has a large community of developers. \n",
    "Natural language processing and machine learning are some of the key areas where Python is applied. \n",
    "It is also used for web development and automation tasks. \n",
    "\"\"\"\n",
    "\n",
    "# Rake sınıfını oluştur\n",
    "rake = Rake()\n",
    "\n",
    "# Anahtar kelimeleri çıkar\n",
    "rake.extract_keywords_from_text(ornek_metin)\n",
    "\n",
    "# Puanlanmış anahtar kelimeleri al\n",
    "anahtar_kelimeler = rake.get_ranked_phrases_with_scores()\n",
    "\n",
    "# Sonuçları ekrana yazdır\n",
    "for skor, kelime in anahtar_kelimeler:\n",
    "    print(f\"{kelime} ({skor})\")\n"
   ]
  },
  {
   "cell_type": "code",
   "execution_count": 9,
   "id": "4d0f66b0-04f0-49a9-81cf-07ae65caace2",
   "metadata": {},
   "outputs": [
    {
     "name": "stdout",
     "output_type": "stream",
     "text": [
      "çok katmanlı sinir ağları ile karmaşık görevleri çözen bir makine öğrenimi alt dalıdır (154.92857142857144)\n",
      "geniş bir makine öğrenimi kütüphaneleri ekosistemi ile öne çıkan bir programlama dilidir (133.35714285714286)\n",
      "büyük veri setlerinden anlamlı bilgiler çıkarmak için kullanılan bir süreçtir (95.42857142857143)\n",
      "bilgisayarın algoritmalar kullanarak öğrenmesini sağlayan bir yapay zeka dalıdır (83.42857142857143)\n",
      "siber güvenlikte önemli bir rol oynar (39.42857142857143)\n",
      "işlemesine odaklanan bir alandır (21.42857142857143)\n",
      "makine öğrenimi (18.0)\n",
      "bilgisayarların insan dilini anlamasına (16.0)\n",
      "kişisel verileri korur (9.0)\n",
      "gelişmiş şifreleme algoritmaları (9.0)\n",
      "doğal dil işleme (9.0)\n",
      "veri madenciliği (8.0)\n",
      "derin öğrenme (4.0)\n",
      "python (1.0)\n"
     ]
    }
   ],
   "source": [
    "from rake_nltk import Rake\n",
    "\n",
    "# Türkçe örnek metin\n",
    "turkce_metin = \"\"\"\n",
    "Makine öğrenimi, bilgisayarın algoritmalar kullanarak öğrenmesini sağlayan bir yapay zeka dalıdır.\n",
    "Doğal dil işleme, bilgisayarların insan dilini anlamasına ve işlemesine odaklanan bir alandır.\n",
    "Derin öğrenme, çok katmanlı sinir ağları ile karmaşık görevleri çözen bir makine öğrenimi alt dalıdır.\n",
    "Python, geniş bir makine öğrenimi kütüphaneleri ekosistemi ile öne çıkan bir programlama dilidir.\n",
    "Veri madenciliği, büyük veri setlerinden anlamlı bilgiler çıkarmak için kullanılan bir süreçtir.\n",
    "Gelişmiş şifreleme algoritmaları, siber güvenlikte önemli bir rol oynar ve kişisel verileri korur.\n",
    "\"\"\"\n",
    "\n",
    "# Rake sınıfını oluştur\n",
    "rake = Rake()\n",
    "\n",
    "# Anahtar kelimeleri çıkar\n",
    "rake.extract_keywords_from_text(turkce_metin)\n",
    "\n",
    "# Puanlanmış anahtar kelimeleri al\n",
    "anahtar_kelimeler = rake.get_ranked_phrases_with_scores()\n",
    "\n",
    "# Sonuçları ekrana yazdır\n",
    "for skor, kelime in anahtar_kelimeler:\n",
    "    print(f\"{kelime} ({skor})\")\n"
   ]
  },
  {
   "cell_type": "code",
   "execution_count": null,
   "id": "57b293fa-2654-4a80-9f13-006d54772173",
   "metadata": {},
   "outputs": [],
   "source": []
  }
 ],
 "metadata": {
  "kernelspec": {
   "display_name": "Python 3 (ipykernel)",
   "language": "python",
   "name": "python3"
  },
  "language_info": {
   "codemirror_mode": {
    "name": "ipython",
    "version": 3
   },
   "file_extension": ".py",
   "mimetype": "text/x-python",
   "name": "python",
   "nbconvert_exporter": "python",
   "pygments_lexer": "ipython3",
   "version": "3.11.5"
  }
 },
 "nbformat": 4,
 "nbformat_minor": 5
}
