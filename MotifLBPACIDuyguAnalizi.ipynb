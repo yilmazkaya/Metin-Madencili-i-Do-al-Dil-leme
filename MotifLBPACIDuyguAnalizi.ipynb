{
 "cells": [
  {
   "cell_type": "code",
   "execution_count": 21,
   "id": "772f8e9f",
   "metadata": {},
   "outputs": [
    {
     "name": "stdout",
     "output_type": "stream",
     "text": [
      "[  0 358   2 357   1 314]\n"
     ]
    }
   ],
   "source": [
    "import numpy as np\n",
    "\n",
    "\n",
    "def aci(data, R, L):\n",
    "    dt = []\n",
    "    N = len(data)\n",
    "    data = np.column_stack((np.arange(1, N+1), data))  # Creating a matrix with indices and data\n",
    "    \n",
    "    for i in range(1 + L, N - R + 1):\n",
    "        P = data[i - L - 1:i + R, :]\n",
    "        P = P.astype(float)\n",
    "        ang = np.arctan2(np.linalg.det([P[0, :] - P[1, :], P[1, :] - P[2, :]]), np.dot(P[0, :] - P[1, :], P[1, :] - P[2, :]))\n",
    "        deger = 180 + int(np.floor(ang * 180 / np.pi))\n",
    "        dt.append(deger)\n",
    "    \n",
    "    return np.array(dt)\n",
    "\n",
    "# example Usage:\n",
    "data_example = [13, 256, 3, 44, 5, 65, 7, 8, 9]\n",
    "R_example = 2\n",
    "L_example = 1\n",
    "result = aci(data_example, R_example, L_example)\n",
    "print(result)\n"
   ]
  },
  {
   "cell_type": "code",
   "execution_count": 39,
   "id": "67c3b99a",
   "metadata": {},
   "outputs": [
    {
     "ename": "ValueError",
     "evalue": "all the input arrays must have same number of dimensions, but the array at index 0 has 2 dimension(s) and the array at index 1 has 1 dimension(s)",
     "output_type": "error",
     "traceback": [
      "\u001b[1;31m---------------------------------------------------------------------------\u001b[0m",
      "\u001b[1;31mValueError\u001b[0m                                Traceback (most recent call last)",
      "Cell \u001b[1;32mIn[39], line 34\u001b[0m\n\u001b[0;32m     32\u001b[0m features \u001b[38;5;241m=\u001b[39m np\u001b[38;5;241m.\u001b[39marray(features)\n\u001b[0;32m     33\u001b[0m label\u001b[38;5;241m=\u001b[39mlabel\u001b[38;5;241m.\u001b[39mto_numpy()\n\u001b[1;32m---> 34\u001b[0m concatenated_matrix \u001b[38;5;241m=\u001b[39m np\u001b[38;5;241m.\u001b[39mconcatenate((features, label),axis\u001b[38;5;241m=\u001b[39m\u001b[38;5;241m1\u001b[39m)\n\u001b[0;32m     36\u001b[0m \u001b[38;5;66;03m# Print or use the 'features' array as needed\u001b[39;00m\n\u001b[0;32m     37\u001b[0m \u001b[38;5;28mprint\u001b[39m(concatenated_matrix\u001b[38;5;241m.\u001b[39mshape)\n",
      "File \u001b[1;32m<__array_function__ internals>:200\u001b[0m, in \u001b[0;36mconcatenate\u001b[1;34m(*args, **kwargs)\u001b[0m\n",
      "\u001b[1;31mValueError\u001b[0m: all the input arrays must have same number of dimensions, but the array at index 0 has 2 dimension(s) and the array at index 1 has 1 dimension(s)"
     ]
    }
   ],
   "source": [
    "import numpy as np\n",
    "from collections import Counter\n",
    "\n",
    "\n",
    "tbl = pd.read_csv(\"duyguanalizi.csv\", dtype={'YORUM': str}, encoding=\"iso-8859-1\")\n",
    "tbl.iloc[:, 0] = tbl.iloc[:, 0].astype(str)\n",
    "textData = tbl.iloc[:, 0]\n",
    "\n",
    "#print(tbl.shape)\n",
    "label=tbl[\"SINIF\"]\n",
    "features = []\n",
    "\n",
    "for i in range(tbl.shape[0]):\n",
    "    dosya = tbl[\"YORUM\"][i]\n",
    "    bytes = [ord(char) for char in dosya]\n",
    "\n",
    "    if len(bytes) > 10:\n",
    "        veri = bytes\n",
    "\n",
    "        b = aci(veri, 1, 1)\n",
    "        count = dict(Counter(b))\n",
    "\n",
    "\n",
    "        # Ensure all 'count' arrays have the same length\n",
    "        max_length = 360\n",
    "        padded_count = np.zeros(max_length)\n",
    "        padded_count[list(count.keys())] = list(count.values())\n",
    "\n",
    "        features.append(padded_count)\n",
    "\n",
    "# Convert the features list to a NumPy array\n",
    "features = np.array(features)\n",
    "label=label.to_numpy()\n",
    "concatenated_matrix = np.concatenate((features, label),axis=1)\n",
    "\n",
    "# Print or use the 'features' array as needed\n",
    "print(concatenated_matrix.shape)\n",
    "print(features.shape)"
   ]
  },
  {
   "cell_type": "code",
   "execution_count": null,
   "id": "b928b18d",
   "metadata": {},
   "outputs": [],
   "source": []
  }
 ],
 "metadata": {
  "kernelspec": {
   "display_name": "Python 3 (ipykernel)",
   "language": "python",
   "name": "python3"
  },
  "language_info": {
   "codemirror_mode": {
    "name": "ipython",
    "version": 3
   },
   "file_extension": ".py",
   "mimetype": "text/x-python",
   "name": "python",
   "nbconvert_exporter": "python",
   "pygments_lexer": "ipython3",
   "version": "3.11.5"
  }
 },
 "nbformat": 4,
 "nbformat_minor": 5
}
