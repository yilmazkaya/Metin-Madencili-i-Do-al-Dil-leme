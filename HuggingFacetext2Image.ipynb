{
 "cells": [
  {
   "cell_type": "code",
   "execution_count": 3,
   "id": "04c24c03-a61d-4a86-bc2c-a8c72ed21cb3",
   "metadata": {},
   "outputs": [
    {
     "name": "stdin",
     "output_type": "stream",
     "text": [
      "Resim Açıklaması :  Bulutların üzerinde dans eden kadın erkek karışın insanlar olsun. Kadınlar kırmızı şapka giysin.\n"
     ]
    },
    {
     "name": "stdout",
     "output_type": "stream",
     "text": [
      "Let men and women dance on the clouds, let them be men and women wear red hats.\n"
     ]
    }
   ],
   "source": [
    "from transformers import pipeline\n",
    "\n",
    "translator = pipeline(task=\"translation\", model=\"Helsinki-NLP/opus-mt-tr-en\")\n",
    "\n",
    "# Türkçe cümleyi İngilizce'ye çevir\n",
    "prompt = input(\"Resim Açıklaması : \")\n",
    "ingilizceprompt = translator(prompt, max_length=150)\n",
    "print(ingilizceprompt[0][\"translation_text\"])"
   ]
  },
  {
   "cell_type": "code",
   "execution_count": 4,
   "id": "928028f7-79b8-485d-b905-1b2f57d1fed1",
   "metadata": {},
   "outputs": [
    {
     "data": {
      "application/vnd.jupyter.widget-view+json": {
       "model_id": "f80141907a8548e18f88973425473d30",
       "version_major": 2,
       "version_minor": 0
      },
      "text/plain": [
       "Loading pipeline components...:   0%|          | 0/7 [00:00<?, ?it/s]"
      ]
     },
     "metadata": {},
     "output_type": "display_data"
    },
    {
     "name": "stdout",
     "output_type": "stream",
     "text": [
      "Let men and women dance on the clouds, let them be men and women wear red hats.\n"
     ]
    },
    {
     "data": {
      "application/vnd.jupyter.widget-view+json": {
       "model_id": "b7e6e557df32439085638b7c3aa7a571",
       "version_major": 2,
       "version_minor": 0
      },
      "text/plain": [
       "  0%|          | 0/50 [00:00<?, ?it/s]"
      ]
     },
     "metadata": {},
     "output_type": "display_data"
    }
   ],
   "source": [
    "from diffusers import StableDiffusionXLPipeline\n",
    "import torch\n",
    "import cv2\n",
    "from torchvision.transforms import ToTensor\n",
    "\n",
    "# Modeli yükle\n",
    "pipe = StableDiffusionXLPipeline.from_pretrained(\"segmind/Segmind-Vega\", torch_dtype=torch.float32, use_safetensors=True, variant=\"fp16\")\n",
    "\n",
    "\n",
    "\n",
    "\n",
    "# Prompt ve negatif prompt tanımla\n",
    "prompt=ingilizceprompt[0][\"translation_text\"]\n",
    "neg_prompt = \"(worst quality, low quality, illustration, 3d, 2d, painting, cartoons, sketch)\"\n",
    "\n",
    "print(prompt)\n",
    "# Modeli kullanarak resmi oluştur\n",
    "image = pipe(prompt=prompt, negative_prompt=neg_prompt).images[0]\n",
    "\n",
    "# PyTorch tensor'ına dönüştür\n",
    "image_tensor = ToTensor()(image)\n",
    "\n",
    "# Tensor'ı numpy dizisine çevir\n",
    "image_np = image_tensor.cpu().numpy()\n",
    "\n",
    "# OpenCV kullanarak resmi göster\n",
    "cv2.imshow(\"Üretilen Resim: \", cv2.cvtColor(image_np.transpose(1, 2, 0), cv2.COLOR_RGB2BGR))\n",
    "cv2.waitKey(0)\n",
    "cv2.destroyAllWindows()"
   ]
  },
  {
   "cell_type": "code",
   "execution_count": null,
   "id": "9a5d5e37-2274-4f27-8012-21c0d6a932ca",
   "metadata": {},
   "outputs": [],
   "source": []
  }
 ],
 "metadata": {
  "kernelspec": {
   "display_name": "Python 3 (ipykernel)",
   "language": "python",
   "name": "python3"
  },
  "language_info": {
   "codemirror_mode": {
    "name": "ipython",
    "version": 3
   },
   "file_extension": ".py",
   "mimetype": "text/x-python",
   "name": "python",
   "nbconvert_exporter": "python",
   "pygments_lexer": "ipython3",
   "version": "3.11.5"
  }
 },
 "nbformat": 4,
 "nbformat_minor": 5
}
