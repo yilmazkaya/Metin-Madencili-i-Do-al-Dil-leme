{
 "cells": [
  {
   "cell_type": "markdown",
   "id": "429a887d-7d55-45f8-befd-c6615b719c00",
   "metadata": {},
   "source": [
    " VADER, \"Valence Aware Dictionary and sEntiment Reasoner\" kısaltmasıdır. Bu algoritma, özellikle sosyal medya içerikleri gibi metin verilerinde duygusal içeriği belirlemek amacıyla tasarlanmıştır.\r\n",
    "\r\n",
    "VADER, metin verilerini analiz ederken kelime seviyesinde duygu yoğunluğunu değerlendirir ve bu şekilde pozitif, negatif veya nötr bir duygu puanı hesaplar. Bu algoritma, genellikle Twitter gibi kısa metinler üzerinde duygu analizi yapmak için kullanılır."
   ]
  },
  {
   "cell_type": "code",
   "execution_count": 8,
   "id": "216c9f54-9528-4597-a695-dc19c49f0e36",
   "metadata": {},
   "outputs": [
    {
     "name": "stdout",
     "output_type": "stream",
     "text": [
      "Duygu Sınıfı: Pozitif\n",
      "Duygu Şiddeti: 0.0\n"
     ]
    }
   ],
   "source": [
    "from nltk.sentiment import SentimentIntensityAnalyzer\n",
    "\n",
    "# VADER analizini başlat\n",
    "analyzer = SentimentIntensityAnalyzer()\n",
    "\n",
    "# Analiz yapılacak metin\n",
    "text = \"Bu bir örnek metindir. VADER algoritması ile duygu analizi yapılıyor.\"\n",
    "\n",
    "# Duygu analizini gerçekleştir\n",
    "sentiment_score = analyzer.polarity_scores(text)\n",
    "\n",
    "# Duygunun sınıfını (pozitif, negatif, nötr) ve şiddetini (compound) görüntüle\n",
    "sentiment_class = \"Pozitif\" if sentiment_score['compound'] >= 0 else \"Negatif\"\n",
    "sentiment_intensity = sentiment_score['compound']\n",
    "\n",
    "print(f\"Duygu Sınıfı: {sentiment_class}\")\n",
    "print(f\"Duygu Şiddeti: {sentiment_intensity}\")\n"
   ]
  },
  {
   "cell_type": "code",
   "execution_count": 9,
   "id": "45472421-2435-42a0-b28a-6f55dd158839",
   "metadata": {},
   "outputs": [
    {
     "name": "stdout",
     "output_type": "stream",
     "text": [
      "{'neg': 0.482, 'neu': 0.409, 'pos': 0.109, 'compound': -0.8481}\n",
      "Sentiment Class: Negative\n",
      "Sentiment Intensity: -0.8481\n"
     ]
    }
   ],
   "source": [
    "from nltk.sentiment import SentimentIntensityAnalyzer\n",
    "\n",
    "# Initialize VADER sentiment analyzer\n",
    "analyzer = SentimentIntensityAnalyzer()\n",
    "\n",
    "# Text to be analyzed\n",
    "text = \"The concert was a disaster. The band played horribly, and the crowd was disappointed.\"\n",
    "\n",
    "# Perform sentiment analysis\n",
    "sentiment_score = analyzer.polarity_scores(text)\n",
    "\n",
    "print(sentiment_score)\n",
    "# Determine sentiment class (positive, negative, neutral) and intensity (compound)\n",
    "sentiment_class = \"Positive\" if sentiment_score['compound'] >= 0 else \"Negative\"\n",
    "sentiment_intensity = sentiment_score['compound']\n",
    "\n",
    "# Display the sentiment class and intensity\n",
    "print(f\"Sentiment Class: {sentiment_class}\")\n",
    "print(f\"Sentiment Intensity: {sentiment_intensity}\")\n"
   ]
  },
  {
   "cell_type": "code",
   "execution_count": 10,
   "id": "158e3aca-56ba-46c0-abc7-2c9093769b1d",
   "metadata": {},
   "outputs": [
    {
     "name": "stdout",
     "output_type": "stream",
     "text": [
      "Sentiment Class: Positive\n",
      "Sentiment Intensity: 0.8718\n"
     ]
    }
   ],
   "source": [
    "from nltk.sentiment import SentimentIntensityAnalyzer\n",
    "\n",
    "# Initialize VADER sentiment analyzer\n",
    "analyzer = SentimentIntensityAnalyzer()\n",
    "\n",
    "# Text to be analyzed\n",
    "text = \"The new software update is fantastic! It has improved performance and added useful features.\"\n",
    "\n",
    "# Perform sentiment analysis\n",
    "sentiment_score = analyzer.polarity_scores(text)\n",
    "\n",
    "# Determine sentiment class (positive, negative, neutral) and intensity (compound)\n",
    "sentiment_class = \"Positive\" if sentiment_score['compound'] >= 0 else \"Negative\"\n",
    "sentiment_intensity = sentiment_score['compound']\n",
    "\n",
    "# Display the sentiment class and intensity\n",
    "print(f\"Sentiment Class: {sentiment_class}\")\n",
    "print(f\"Sentiment Intensity: {sentiment_intensity}\")\n"
   ]
  },
  {
   "cell_type": "code",
   "execution_count": null,
   "id": "99ee89bc-9898-437b-8e90-d5840cabc654",
   "metadata": {},
   "outputs": [],
   "source": []
  }
 ],
 "metadata": {
  "kernelspec": {
   "display_name": "Python 3 (ipykernel)",
   "language": "python",
   "name": "python3"
  },
  "language_info": {
   "codemirror_mode": {
    "name": "ipython",
    "version": 3
   },
   "file_extension": ".py",
   "mimetype": "text/x-python",
   "name": "python",
   "nbconvert_exporter": "python",
   "pygments_lexer": "ipython3",
   "version": "3.11.5"
  }
 },
 "nbformat": 4,
 "nbformat_minor": 5
}
