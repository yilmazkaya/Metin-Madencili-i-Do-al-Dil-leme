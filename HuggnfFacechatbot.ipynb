{
 "cells": [
  {
   "cell_type": "code",
   "execution_count": null,
   "id": "2ef26274-37af-4ca4-8aa8-65045f8eefc1",
   "metadata": {},
   "outputs": [
    {
     "name": "stdin",
     "output_type": "stream",
     "text": [
      "Sen:  hello\n"
     ]
    },
    {
     "name": "stdout",
     "output_type": "stream",
     "text": [
      "Bot: hello to Mr. Obama and Mrs. Clinton, and thank you for your service. I hope you have a great day.\n"
     ]
    },
    {
     "name": "stdin",
     "output_type": "stream",
     "text": [
      "Sen:  how are you?\n"
     ]
    },
    {
     "name": "stdout",
     "output_type": "stream",
     "text": [
      "Bot: how are you?\n"
     ]
    },
    {
     "name": "stdin",
     "output_type": "stream",
     "text": [
      "Sen:  who is Hitler?\n"
     ]
    },
    {
     "name": "stdout",
     "output_type": "stream",
     "text": [
      "Bot: who is Hitler?\n"
     ]
    }
   ],
   "source": [
    "from transformers import AutoModelForCausalLM, AutoTokenizer\n",
    "import torch\n",
    "\n",
    "# Önceden eğitilmiş bir sohbet modelini yükle\n",
    "model_name = \"microsoft/DialoGPT-medium\"\n",
    "tokenizer = AutoTokenizer.from_pretrained(model_name)\n",
    "model = AutoModelForCausalLM.from_pretrained(model_name)\n",
    "\n",
    "# Chatbot fonksiyonu\n",
    "def chatbot(prompt, max_length=100):\n",
    "    # Girişi tokenize et\n",
    "    input_ids = tokenizer.encode(prompt, return_tensors=\"pt\")\n",
    "\n",
    "    # Modeli kullanarak tahmin yap\n",
    "    with torch.no_grad():\n",
    "        output = model.generate(\n",
    "            input_ids,\n",
    "            max_length=max_length,\n",
    "            num_beams=5,\n",
    "            no_repeat_ngram_size=2,\n",
    "            pad_token_id=model.config.eos_token_id,\n",
    "            attention_mask=torch.ones(input_ids.shape, device=model.device),\n",
    "            do_sample=True  # veya temperature ve top_p parametrelerini kaldırabilirsiniz\n",
    "        )\n",
    "\n",
    "    # Decode edip ekrana yazdır\n",
    "    response = tokenizer.decode(output[0], skip_special_tokens=True)\n",
    "    print(\"Bot:\", response)\n",
    "\n",
    "# Sohbet başlasın\n",
    "while True:\n",
    "    user_input = input(\"Sen: \")\n",
    "    if user_input.lower() == 'exit':\n",
    "        print(\"Chatbot kapatılıyor. İyi günler!\")\n",
    "        break\n",
    "    chatbot(user_input,100)\n"
   ]
  },
  {
   "cell_type": "code",
   "execution_count": 7,
   "id": "2f01fe9a-ffbc-49d0-9c33-dab49bda280c",
   "metadata": {},
   "outputs": [
    {
     "name": "stdin",
     "output_type": "stream",
     "text": [
      "Sen:  Kazım koyuncu kimdir\n"
     ]
    },
    {
     "name": "stdout",
     "output_type": "stream",
     "text": [
      "[Q] cengiz han kimdir(A) rusya imparatorlugu doneminde kac yilinda kurulmustur. manciniklar ile 11 yilinda mogol oncu birlikleriyle yasanan ic isyankar bir guvenlik tehdit aldi.000 kadinlara vardi.) hava cikariler icin verilir.000 komutancesine cik\n"
     ]
    },
    {
     "name": "stdin",
     "output_type": "stream",
     "text": [
      "Sen:  [Q] Kazım koyuncu kimdir?\n"
     ]
    },
    {
     "name": "stdout",
     "output_type": "stream",
     "text": [
      "[Q] cengiz han kimdir(A) rusya imparatorlugu doneminde kac yilinda kurulmustur. manciniklar ile 11 yilinda mogol oncu birlikleriyle yasanan ic isyankar bir guvenlik tehdit aldi.000 kadinlara vardi.) hava cikariler icin verilir.000 komutancesine cik\n"
     ]
    },
    {
     "name": "stdin",
     "output_type": "stream",
     "text": [
      "Sen:  [Q] Adolf Eichmann?\n"
     ]
    },
    {
     "name": "stdout",
     "output_type": "stream",
     "text": [
      "[Q] cengiz han kimdir(A) rusya imparatorlugu doneminde kac yilinda kurulmustur. manciniklar ile 11 yilinda mogol oncu birlikleriyle yasanan ic isyankar bir guvenlik tehdit aldi.000 kadinlara vardi.) hava cikariler icin verilir.000 komutancesine cik\n"
     ]
    },
    {
     "name": "stdin",
     "output_type": "stream",
     "text": [
      "Sen:  [Q] Kâzım Koyuncu\n"
     ]
    },
    {
     "name": "stdout",
     "output_type": "stream",
     "text": [
      "[Q] cengiz han kimdir(A) rusya imparatorlugu doneminde kac yilinda kurulmustur. manciniklar ile 11 yilinda mogol oncu birlikleriyle yasanan ic isyankar bir guvenlik tehdit aldi.000 kadinlara vardi.) hava cikariler icin verilir.000 komutancesine cik\n"
     ]
    },
    {
     "name": "stdin",
     "output_type": "stream",
     "text": [
      "Sen:  [Q] Kazim Koyuncu\n"
     ]
    },
    {
     "name": "stdout",
     "output_type": "stream",
     "text": [
      "[Q] cengiz han kimdir(A) rusya imparatorlugu doneminde kac yilinda kurulmustur. manciniklar ile 11 yilinda mogol oncu birlikleriyle yasanan ic isyankar bir guvenlik tehdit aldi.000 kadinlara vardi.) hava cikariler icin verilir.000 komutancesine cik\n"
     ]
    },
    {
     "name": "stdin",
     "output_type": "stream",
     "text": [
      "Sen:  [Q] tayvan ne zaman kurulmustur\n"
     ]
    },
    {
     "name": "stdout",
     "output_type": "stream",
     "text": [
      "[Q] cengiz han kimdir(A) rusya imparatorlugu doneminde kac yilinda kurulmustur. manciniklar ile 11 yilinda mogol oncu birlikleriyle yasanan ic isyankar bir guvenlik tehdit aldi.000 kadinlara vardi.) hava cikariler icin verilir.000 komutancesine cik\n"
     ]
    },
    {
     "name": "stdin",
     "output_type": "stream",
     "text": [
      "Sen:  exit\n"
     ]
    },
    {
     "name": "stdout",
     "output_type": "stream",
     "text": [
      "Chatbot kapatılıyor. İyi günler!\n"
     ]
    }
   ],
   "source": []
  },
  {
   "cell_type": "code",
   "execution_count": 16,
   "id": "a8b18075-4613-4555-b7b3-fa98f6e3fc5a",
   "metadata": {},
   "outputs": [
    {
     "name": "stdin",
     "output_type": "stream",
     "text": [
      "Sen:  programlama nedir?\n"
     ]
    },
    {
     "name": "stdout",
     "output_type": "stream",
     "text": [
      "programlama nedir?bilgisayarların belirli görevleri yerine getirmesi için talimatların yazılması sürecidir. : * * * \n"
     ]
    },
    {
     "name": "stdin",
     "output_type": "stream",
     "text": [
      "Sen:  parfüm nedir?\n"
     ]
    },
    {
     "name": "stdout",
     "output_type": "stream",
     "text": [
      "parfüm nedir?parfüm, ışık ya da ısı iletimi için kullanılan bir araçtır. genellikle bir yüzey üzerinde bulunan bir dizi nesneyi içerir.\n"
     ]
    },
    {
     "name": "stdin",
     "output_type": "stream",
     "text": [
      "Sen:  hitler kim?\n"
     ]
    },
    {
     "name": "stdout",
     "output_type": "stream",
     "text": [
      "hitler kim? (almanca: hitlerjugend - hitlerjugend), alman i̇mparatorluğu'nun ii. dünya savaşı sırasında alman i̇mparatorluğu'nun devlet başkanı ve i̇mparatorluk şansölyesi olarak görev yapmış olan kişilere denir.\n"
     ]
    },
    {
     "name": "stdin",
     "output_type": "stream",
     "text": [
      "Sen:  Kazım koyuncu kim?\n"
     ]
    },
    {
     "name": "stdout",
     "output_type": "stream",
     "text": [
      "Kazım koyuncu kim?, türk şarkıcı ajda pekkan'ın ilk stüdyo albümüdür. 22 şubat 1982'de topkapı müzik tarafından yayımlandı.azım koyuncu kim?;albüm, sanatçının en çok satan albümü olup pekkan'ın en çok satan albümleri arasında yer almaktadır ve sanatçının \n"
     ]
    },
    {
     "name": "stdin",
     "output_type": "stream",
     "text": [
      "Sen:  exit\n"
     ]
    },
    {
     "name": "stdout",
     "output_type": "stream",
     "text": [
      "Chatbot kapatılıyor. İyi günler!\n"
     ]
    }
   ],
   "source": [
    "# Model ile çıkarım yapmak için örnek kod\n",
    "\n",
    "from transformers import GPT2Tokenizer, GPT2LMHeadModel\n",
    "\n",
    "model_name = \"cenkersisman/chatbot-gpt2-turkish-128-token\"\n",
    "tokenizer = GPT2Tokenizer.from_pretrained(model_name)\n",
    "model = GPT2LMHeadModel.from_pretrained(model_name)\n",
    "\n",
    "while True:\n",
    "    prompt = input(\"Sen: \")\n",
    "    if prompt.lower() == 'exit':\n",
    "        print(\"Chatbot kapatılıyor. İyi günler!\")\n",
    "        break\n",
    "    input_ids = tokenizer.encode(prompt, return_tensors=\"pt\")\n",
    "    output = model.generate(input_ids, max_length=100, pad_token_id=tokenizer.eos_token_id)\n",
    "    generated_text = tokenizer.decode(output[0], skip_special_tokens=True)\n",
    "    print(generated_text)\n",
    "\n",
    "\n"
   ]
  },
  {
   "cell_type": "code",
   "execution_count": null,
   "id": "04fa54dc-155e-4da6-a72a-60476cb5e741",
   "metadata": {},
   "outputs": [],
   "source": []
  },
  {
   "cell_type": "code",
   "execution_count": null,
   "id": "330327fc-db57-42a5-bfb2-30ef71634afd",
   "metadata": {},
   "outputs": [],
   "source": []
  }
 ],
 "metadata": {
  "kernelspec": {
   "display_name": "Python 3 (ipykernel)",
   "language": "python",
   "name": "python3"
  },
  "language_info": {
   "codemirror_mode": {
    "name": "ipython",
    "version": 3
   },
   "file_extension": ".py",
   "mimetype": "text/x-python",
   "name": "python",
   "nbconvert_exporter": "python",
   "pygments_lexer": "ipython3",
   "version": "3.11.5"
  }
 },
 "nbformat": 4,
 "nbformat_minor": 5
}
