{
 "cells": [
  {
   "cell_type": "code",
   "execution_count": 32,
   "id": "72bce320",
   "metadata": {},
   "outputs": [
    {
     "name": "stdout",
     "output_type": "stream",
     "text": [
      "[5. 0. 0. 2. 1. 0.]\n"
     ]
    }
   ],
   "source": [
    "import itertools\n",
    "import numpy as np\n",
    "\n",
    "def indisBul(D):\n",
    "    S = np.sort(D)\n",
    "    M = np.zeros((len(D), 2))\n",
    "    \n",
    "    for i in range(len(D)):\n",
    "        M[i, 0] = D[i]\n",
    "        indx = np.where(S == D[i])[0]\n",
    "        \n",
    "        for j in range(len(indx)):\n",
    "            if np.any(M[:, 1] == indx[j]):\n",
    "                continue\n",
    "            else:\n",
    "                M[i, 1] = indx[j]\n",
    "                break\n",
    "                \n",
    "    return M\n",
    "\n",
    "def motifyeni(data, Pboyut):\n",
    "    S = np.array(data)\n",
    "    PB = Pboyut  # Pencere boyu\n",
    "    P = list(itertools.permutations(range(1, PB + 1)))  # pencere boyuna bağlı tüm permütasyonlar\n",
    "    P = np.array(P)\n",
    "    #print(P)\n",
    "    Pc = np.zeros(P.shape[0])\n",
    "    \n",
    "    for i in range(len(S) - PB + 1):\n",
    "        a = S[i:i + PB]  # pencere boyutu kadar sinyalden alınan parça\n",
    "        #print(a)\n",
    "        b = indisBul(a)  # alınan parçanın örüntüsünün elde edilmesi\n",
    "        #print(b)\n",
    "        b=b+1\n",
    "        # hangi patterne uyduğu bulunuyor\n",
    "        patindx = np.where(np.sum(np.abs(P - np.tile(b[:, 1], (P.shape[0], 1))), axis=1) == 0)[0]\n",
    "        Pc[patindx] += 1  # bulunan patter sayacı 1 arttırılıyor\n",
    "\n",
    "    motifs = Pc\n",
    "    return motifs\n",
    "\n",
    "# Example usage:\n",
    "data = [10, 24, 33, 41, 5, 6, 7, 8, 9,5]\n",
    "Pboyut = 3\n",
    "result = motifyeni(data, Pboyut)\n",
    "print(result)\n",
    "\n",
    "\n"
   ]
  },
  {
   "cell_type": "code",
   "execution_count": 40,
   "id": "0e2f5480",
   "metadata": {},
   "outputs": [
    {
     "name": "stdout",
     "output_type": "stream",
     "text": [
      "[[0. 2. 1. ... 2. 4. 0.]\n",
      " [2. 3. 2. ... 1. 3. 0.]\n",
      " [4. 3. 1. ... 1. 4. 0.]\n",
      " ...\n",
      " [4. 0. 0. ... 0. 0. 0.]\n",
      " [3. 1. 2. ... 2. 3. 0.]\n",
      " [1. 0. 5. ... 1. 3. 0.]]\n",
      "(1233, 121)\n"
     ]
    }
   ],
   "source": [
    "import numpy as np\n",
    "\n",
    "\n",
    "# Read data from files\n",
    "with open('spam/D1.txt', 'r') as file:\n",
    "    A = file.readlines()\n",
    "\n",
    "with open('spam/D2.txt', 'r') as file:\n",
    "    B = file.readlines()\n",
    "\n",
    "features = []\n",
    "PB = 5\n",
    "\n",
    "for i in range(len(A)):\n",
    "    dosya = A[i].strip()\n",
    "    bytes = [ord(char) for char in dosya]\n",
    "\n",
    "    if len(bytes) > 10:\n",
    "        veri = bytes\n",
    "        a = motifyeni(veri, PB)\n",
    "\n",
    "        if B[i].strip() != 'ham':\n",
    "            features.append(np.concatenate((a, [0])))\n",
    "        else:\n",
    "            features.append(np.concatenate((a, [1])))\n",
    "\n",
    "# features array now contains the extracted features and labels\n",
    "features = np.array(features)\n",
    "print(features)\n",
    "print(features.shape)"
   ]
  },
  {
   "cell_type": "code",
   "execution_count": 41,
   "id": "91af8f6d",
   "metadata": {},
   "outputs": [
    {
     "name": "stdout",
     "output_type": "stream",
     "text": [
      "KNN Başarı: 0.9378378378378378\n",
      "KNN Karışıklık Matrisi:\n",
      "[[ 62  22]\n",
      " [  1 285]]\n",
      "Naive Bayes Başarı 0.8594594594594595\n",
      "Naive Bayes Karışıklık Matrisi:\n",
      "[[ 78   6]\n",
      " [ 46 240]]\n"
     ]
    }
   ],
   "source": [
    "\n",
    "from sklearn.model_selection import train_test_split\n",
    "from sklearn.neighbors import KNeighborsClassifier\n",
    "from sklearn.naive_bayes import GaussianNB\n",
    "from sklearn.metrics import accuracy_score\n",
    "from sklearn.metrics import confusion_matrix\n",
    "import seaborn as sns\n",
    "import matplotlib.pyplot as plt\n",
    "\n",
    "\n",
    "# Giriş öznitelikleri ve çıkış sütununu ayırma\n",
    "X = features[:, :features.shape[1]-1]  \n",
    "y = features[:, features.shape[1]-1]   # Son sütun çıkış\n",
    "\n",
    "\n",
    "# Veriyi eğitim ve test setlerine bölelim\n",
    "X_train, X_test, y_train, y_test = train_test_split(X, y, test_size=0.3, random_state=42)\n",
    "\n",
    "# KNN sınıflandırıcı\n",
    "knn_classifier = KNeighborsClassifier(n_neighbors=5)\n",
    "knn_classifier.fit(X_train, y_train)\n",
    "knn_predictions = knn_classifier.predict(X_test)\n",
    "knn_accuracy = accuracy_score(y_test, knn_predictions)\n",
    "print(\"KNN Başarı:\", knn_accuracy)\n",
    "\n",
    "knn_conf_matrix = confusion_matrix(y_test, knn_predictions)\n",
    "print(\"KNN Karışıklık Matrisi:\")\n",
    "print(knn_conf_matrix)\n",
    "\n",
    "# Naive Bayes sınıflandırıcı\n",
    "nb_classifier = GaussianNB()\n",
    "nb_classifier.fit(X_train, y_train)\n",
    "nb_predictions = nb_classifier.predict(X_test)\n",
    "nb_accuracy = accuracy_score(y_test, nb_predictions)\n",
    "print(\"Naive Bayes Başarı\", nb_accuracy)\n",
    "\n",
    "nb_conf_matrix = confusion_matrix(y_test, nb_predictions)\n",
    "print(\"Naive Bayes Karışıklık Matrisi:\")\n",
    "print(nb_conf_matrix)"
   ]
  },
  {
   "cell_type": "code",
   "execution_count": null,
   "id": "2c2e1d27",
   "metadata": {},
   "outputs": [],
   "source": []
  },
  {
   "cell_type": "code",
   "execution_count": null,
   "id": "6ee6c136",
   "metadata": {},
   "outputs": [],
   "source": []
  },
  {
   "cell_type": "code",
   "execution_count": null,
   "id": "16ade67e",
   "metadata": {},
   "outputs": [],
   "source": []
  }
 ],
 "metadata": {
  "kernelspec": {
   "display_name": "Python 3 (ipykernel)",
   "language": "python",
   "name": "python3"
  },
  "language_info": {
   "codemirror_mode": {
    "name": "ipython",
    "version": 3
   },
   "file_extension": ".py",
   "mimetype": "text/x-python",
   "name": "python",
   "nbconvert_exporter": "python",
   "pygments_lexer": "ipython3",
   "version": "3.11.5"
  }
 },
 "nbformat": 4,
 "nbformat_minor": 5
}
