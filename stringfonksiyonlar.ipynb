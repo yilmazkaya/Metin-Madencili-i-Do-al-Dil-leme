{
 "cells": [
  {
   "cell_type": "markdown",
   "id": "f139fd24",
   "metadata": {},
   "source": [
    "Python'da bir dizi string fonksiyonu bulunmaktadır. İşte birçok yaygın olarak kullanılan string fonksiyonları ve kısa açıklamaları ile birlikte örnekleri:\n",
    "\n",
    "1- capitalize() - İlk Harfi Büyük Yapma:\n",
    "\n",
    "Açıklama: Bir stringin ilk harfini büyük yapar."
   ]
  },
  {
   "cell_type": "code",
   "execution_count": 1,
   "id": "bc409d6d",
   "metadata": {},
   "outputs": [
    {
     "name": "stdout",
     "output_type": "stream",
     "text": [
      "Merhaba, dünya!\n"
     ]
    }
   ],
   "source": [
    "text = \"merhaba, dünya!\"\n",
    "capitalized_text = text.capitalize()\n",
    "print(capitalized_text)  # Çıktı: Merhaba, dünya!\n"
   ]
  },
  {
   "cell_type": "markdown",
   "id": "ce18b75b",
   "metadata": {},
   "source": [
    "2-casefold() - Küçük Harfe Dönüştürme:\n",
    "\n",
    "Açıklama: Bir stringi küçük harfe dönüştürür. lower() fonksiyonundan daha agresif bir küçük harfe dönüştürme sağlar."
   ]
  },
  {
   "cell_type": "code",
   "execution_count": 2,
   "id": "8a16e93d",
   "metadata": {},
   "outputs": [
    {
     "name": "stdout",
     "output_type": "stream",
     "text": [
      "merhaba, dünya!\n"
     ]
    }
   ],
   "source": [
    "text = \"MERHABA, DÜNYA!\"\n",
    "casefolded_text = text.casefold()\n",
    "print(casefolded_text)  # Çıktı: merhaba, dünya!\n"
   ]
  },
  {
   "cell_type": "markdown",
   "id": "6bcf3c98",
   "metadata": {},
   "source": [
    "3-center() - Ortaya Hizalama:\n",
    "\n",
    "Açıklama: Bir stringi belirli bir genişlikte olacak şekilde ortaya hizalar."
   ]
  },
  {
   "cell_type": "code",
   "execution_count": 3,
   "id": "965aa213",
   "metadata": {},
   "outputs": [
    {
     "name": "stdout",
     "output_type": "stream",
     "text": [
      "     Python    \n"
     ]
    }
   ],
   "source": [
    "text = \"Python\"\n",
    "centered_text = text.center(15, \" \")\n",
    "print(centered_text)  # Çıktı: **Python**\n"
   ]
  },
  {
   "cell_type": "markdown",
   "id": "1a944310",
   "metadata": {},
   "source": [
    "4-count() - Karakter Sayısını Hesaplama:\n",
    "\n",
    "Açıklama: Belirtilen bir karakterin veya alt dizinin toplam kaç kez geçtiğini sayar."
   ]
  },
  {
   "cell_type": "code",
   "execution_count": 5,
   "id": "518e1ce3",
   "metadata": {},
   "outputs": [
    {
     "name": "stdout",
     "output_type": "stream",
     "text": [
      "5\n"
     ]
    }
   ],
   "source": [
    "text = \"Merhaba, dünya! Merhaba, evren!\"\n",
    "count = text.count(\"a\")\n",
    "print(count)  # Çıktı: 2\n"
   ]
  },
  {
   "cell_type": "markdown",
   "id": "fb543d5d",
   "metadata": {},
   "source": [
    "5-encode() - Kodlamayı Değiştirme:\n",
    "\n",
    "Açıklama: Bir stringi belirli bir karakter kodlamasına göre encode eder."
   ]
  },
  {
   "cell_type": "code",
   "execution_count": 6,
   "id": "e2f68a92",
   "metadata": {},
   "outputs": [
    {
     "name": "stdout",
     "output_type": "stream",
     "text": [
      "b'Merhaba, d\\xc3\\xbcnya!'\n"
     ]
    }
   ],
   "source": [
    "text = \"Merhaba, dünya!\"\n",
    "encoded_text = text.encode(\"utf-8\")\n",
    "print(encoded_text)  # Çıktı: b'Merhaba, d\\xc3\\xbcnya!'\n"
   ]
  },
  {
   "cell_type": "markdown",
   "id": "fe6fe491",
   "metadata": {},
   "source": [
    "6-endswith() - Bitiş Kontrolü:\n",
    "\n",
    "Açıklama: Bir stringin belirli bir alt dizisi ile bitip bitmediğini kontrol eder."
   ]
  },
  {
   "cell_type": "code",
   "execution_count": 7,
   "id": "c5c5af23",
   "metadata": {},
   "outputs": [
    {
     "name": "stdout",
     "output_type": "stream",
     "text": [
      "True\n"
     ]
    }
   ],
   "source": [
    "text = \"Merhaba, dünya!\"\n",
    "ends_with = text.endswith(\"dünya!\")\n",
    "print(ends_with)  # Çıktı: True\n"
   ]
  },
  {
   "cell_type": "markdown",
   "id": "4323ced8",
   "metadata": {},
   "source": [
    "7-expandtabs() - Sekme Karakterlerini Genişletme:\n",
    "\n",
    "Açıklama: Bir stringdeki sekme karakterlerini belirli bir genişlikteki boşluklara dönüştürür."
   ]
  },
  {
   "cell_type": "code",
   "execution_count": 8,
   "id": "d2f5fc28",
   "metadata": {},
   "outputs": [
    {
     "name": "stdout",
     "output_type": "stream",
     "text": [
      "Hello   World\n"
     ]
    }
   ],
   "source": [
    "text = \"Hello\\tWorld\"\n",
    "expanded_text = text.expandtabs(4)\n",
    "print(expanded_text)  # Çıktı: Hello   World\n"
   ]
  },
  {
   "cell_type": "markdown",
   "id": "21a7ddac",
   "metadata": {},
   "source": [
    "8-find() - Alt Diziyi Bulma:\n",
    "\n",
    "Açıklama: Belirtilen bir alt dizi (substring) veya karakterin ilk indeksini bulur. Eğer bulamazsa -1 döndürür."
   ]
  },
  {
   "cell_type": "code",
   "execution_count": 9,
   "id": "18383932",
   "metadata": {},
   "outputs": [
    {
     "name": "stdout",
     "output_type": "stream",
     "text": [
      "9\n"
     ]
    }
   ],
   "source": [
    "text = \"Merhaba, dünya!\"\n",
    "index = text.find(\"dünya\")\n",
    "print(index)  # Çıktı: 9\n"
   ]
  },
  {
   "cell_type": "markdown",
   "id": "5b81d313",
   "metadata": {},
   "source": [
    "9-format() - Formatlama:\n",
    "\n",
    "Açıklama: Bir stringi belirli bir formata göre biçimlendirir."
   ]
  },
  {
   "cell_type": "code",
   "execution_count": 10,
   "id": "412da800",
   "metadata": {},
   "outputs": [
    {
     "name": "stdout",
     "output_type": "stream",
     "text": [
      "My name is John and I'm 25 years old.\n"
     ]
    }
   ],
   "source": [
    "name = \"John\"\n",
    "age = 25\n",
    "formatted_text = \"My name is {} and I'm {} years old.\".format(name, age)\n",
    "print(formatted_text)  # Çıktı: My name is John and I'm 25 years old.\n"
   ]
  },
  {
   "cell_type": "markdown",
   "id": "9df2fe29",
   "metadata": {},
   "source": [
    "10-index() - Alt Diziyi Bulma (Hata Verir):\n",
    "\n",
    "Açıklama: find() fonksiyonuna benzer, ancak alt dizi bulunamazsa ValueError hatası verir."
   ]
  },
  {
   "cell_type": "code",
   "execution_count": 13,
   "id": "5362d13b",
   "metadata": {},
   "outputs": [
    {
     "name": "stdout",
     "output_type": "stream",
     "text": [
      "9\n"
     ]
    }
   ],
   "source": [
    "text = \"Merhaba, dünya!\"\n",
    "index = text.index(\"dünya\")\n",
    "print(index)  # Çıktı: 9\n"
   ]
  },
  {
   "cell_type": "code",
   "execution_count": null,
   "id": "b5b273ea",
   "metadata": {},
   "outputs": [],
   "source": [
    "11-isalnum() - Alfanümerik Kontrol:\n",
    "\n",
    "Açıklama: Bir stringin yalnızca harf ve sayılardan oluşup oluşmadığını kontrol eder."
   ]
  },
  {
   "cell_type": "code",
   "execution_count": 14,
   "id": "e48167d1",
   "metadata": {},
   "outputs": [
    {
     "name": "stdout",
     "output_type": "stream",
     "text": [
      "True\n"
     ]
    }
   ],
   "source": [
    "text = \"Python3\"\n",
    "is_alnum = text.isalnum()\n",
    "print(is_alnum)  # Çıktı: True\n"
   ]
  },
  {
   "cell_type": "code",
   "execution_count": null,
   "id": "c7e35a48",
   "metadata": {},
   "outputs": [],
   "source": [
    "12-isalpha() - Alfabetik Kontrol:\n",
    "\n",
    "Açıklama: Bir stringin yalnızca harflerden oluşup oluşmadığını kontrol eder."
   ]
  },
  {
   "cell_type": "code",
   "execution_count": 17,
   "id": "d03f5397",
   "metadata": {},
   "outputs": [
    {
     "name": "stdout",
     "output_type": "stream",
     "text": [
      "True\n"
     ]
    }
   ],
   "source": [
    "text = \"Python\"\n",
    "is_alpha = text.isalpha()\n",
    "print(is_alpha)  # Çıktı: True\n"
   ]
  },
  {
   "cell_type": "code",
   "execution_count": null,
   "id": "bffc54ae",
   "metadata": {},
   "outputs": [],
   "source": [
    "13-isdigit() - Sayısal Kontrol:\n",
    "\n",
    "Açıklama: Bir stringin yalnızca sayılardan oluşup oluşmadığını kontrol eder."
   ]
  },
  {
   "cell_type": "code",
   "execution_count": 20,
   "id": "db64fc28",
   "metadata": {},
   "outputs": [
    {
     "name": "stdout",
     "output_type": "stream",
     "text": [
      "True\n"
     ]
    }
   ],
   "source": [
    "text = \"12345\"\n",
    "is_digit = text.isdigit()\n",
    "print(is_digit)  # Çıktı: True\n"
   ]
  },
  {
   "cell_type": "code",
   "execution_count": null,
   "id": "bf0ad142",
   "metadata": {},
   "outputs": [],
   "source": [
    "14-islower() ve isupper() - Küçük veya Büyük Harf Kontrolü:\n",
    "\n",
    "Açıklama: Sırasıyla, bir stringin tüm harflerinin küçük veya büyük olup olmadığını kontrol eder."
   ]
  },
  {
   "cell_type": "code",
   "execution_count": 21,
   "id": "f8ed8089",
   "metadata": {},
   "outputs": [
    {
     "name": "stdout",
     "output_type": "stream",
     "text": [
      "True True\n"
     ]
    }
   ],
   "source": [
    "text_lower = \"python\"\n",
    "text_upper = \"PYTHON\"\n",
    "print(text_lower.islower(), text_upper.isupper())  # Çıktı: True, True\n"
   ]
  },
  {
   "cell_type": "code",
   "execution_count": null,
   "id": "5559e68a",
   "metadata": {},
   "outputs": [],
   "source": [
    "15-isspace() - Boşluk Kontrolü:\n",
    "\n",
    "Açıklama: Bir stringin yalnızca boşluklardan oluşup oluşmadığını kontrol eder."
   ]
  },
  {
   "cell_type": "code",
   "execution_count": 22,
   "id": "9d8d8e7d",
   "metadata": {},
   "outputs": [
    {
     "name": "stdout",
     "output_type": "stream",
     "text": [
      "True\n"
     ]
    }
   ],
   "source": [
    "text = \"   \"\n",
    "is_space = text.isspace()\n",
    "print(is_space)  # Çıktı: True\n"
   ]
  },
  {
   "cell_type": "code",
   "execution_count": null,
   "id": "24df17b7",
   "metadata": {},
   "outputs": [],
   "source": [
    "16-join() - Stringleri Birleştirme:\n",
    "\n",
    "Açıklama: Belirli bir ayırıcı kullanarak bir liste veya tuple içindeki stringleri birleştirir."
   ]
  },
  {
   "cell_type": "code",
   "execution_count": 25,
   "id": "7685dd9f",
   "metadata": {},
   "outputs": [
    {
     "name": "stdout",
     "output_type": "stream",
     "text": [
      "Merhaba dünya !\n"
     ]
    }
   ],
   "source": [
    "words = [\"Merhaba\", \"dünya\", \"!\"]\n",
    "joined_text = \" \".join(words)\n",
    "print(joined_text)  # Çıktı: Merhaba dünya !\n"
   ]
  },
  {
   "cell_type": "code",
   "execution_count": null,
   "id": "bb69018b",
   "metadata": {},
   "outputs": [],
   "source": [
    "17-ljust() ve rjust() - Sola veya Sağa Hizalama:\n",
    "\n",
    "Açıklama: Sırasıyla, bir stringi belirli bir genişlikte olacak şekilde sola veya sağa hizalar."
   ]
  },
  {
   "cell_type": "code",
   "execution_count": 26,
   "id": "7f0f7106",
   "metadata": {},
   "outputs": [
    {
     "name": "stdout",
     "output_type": "stream",
     "text": [
      "Python**** ****Python\n"
     ]
    }
   ],
   "source": [
    "text = \"Python\"\n",
    "left_aligned_text = text.ljust(10, \"*\")\n",
    "right_aligned_text = text.rjust(10, \"*\")\n",
    "print(left_aligned_text, right_aligned_text)  # Çıktı: Python****, ****Python\n"
   ]
  },
  {
   "cell_type": "code",
   "execution_count": null,
   "id": "1e0230cc",
   "metadata": {},
   "outputs": [],
   "source": [
    "18-lower() ve upper() - Küçük veya Büyük Harfe Dönüştürme:\n",
    "\n",
    "Açıklama: Sırasıyla, bir stringin tüm harflerini küçük veya büyük yapar."
   ]
  },
  {
   "cell_type": "code",
   "execution_count": 27,
   "id": "d96e9431",
   "metadata": {},
   "outputs": [
    {
     "name": "stdout",
     "output_type": "stream",
     "text": [
      "merhaba, dünya! MERHABA, DÜNYA!\n"
     ]
    }
   ],
   "source": [
    "text = \"MERHABA, DÜNYA!\"\n",
    "lower_text = text.lower()\n",
    "upper_text = text.upper()\n",
    "print(lower_text, upper_text)  # Çıktı: merhaba, dünya!, MERHABA, DÜNYA!\n"
   ]
  },
  {
   "cell_type": "code",
   "execution_count": null,
   "id": "2a02cfda",
   "metadata": {},
   "outputs": [],
   "source": [
    "19-lstrip() ve rstrip() - Soldan veya Sağdan Boşluk Temizleme:\n",
    "\n",
    "Açıklama: Sırasıyla, bir stringin solundaki veya sağındaki boşlukları temizler."
   ]
  },
  {
   "cell_type": "code",
   "execution_count": 28,
   "id": "cdead5b0",
   "metadata": {},
   "outputs": [
    {
     "name": "stdout",
     "output_type": "stream",
     "text": [
      "Python       Python\n"
     ]
    }
   ],
   "source": [
    "text = \"   Python   \"\n",
    "left_stripped_text = text.lstrip()\n",
    "right_stripped_text = text.rstrip()\n",
    "print(left_stripped_text, right_stripped_text)  # Çıktı: Python   ,    Python\n"
   ]
  },
  {
   "cell_type": "code",
   "execution_count": null,
   "id": "5065df8a",
   "metadata": {},
   "outputs": [],
   "source": [
    "20-partition() - Alt Diziye Ayırma:\n",
    "\n",
    "Açıklama: Bir stringi belirli bir alt diziye göre ayırır."
   ]
  },
  {
   "cell_type": "code",
   "execution_count": 29,
   "id": "ea935195",
   "metadata": {},
   "outputs": [
    {
     "name": "stdout",
     "output_type": "stream",
     "text": [
      "('Python', ',', 'Java,C++')\n"
     ]
    }
   ],
   "source": [
    "text = \"Python,Java,C++\"\n",
    "partitioned_text = text.partition(\",\")\n",
    "print(partitioned_text)  # Çıktı: ('Python', ',', 'Java,C++')\n"
   ]
  },
  {
   "cell_type": "code",
   "execution_count": null,
   "id": "92318e44",
   "metadata": {},
   "outputs": [],
   "source": [
    "21-replace() - Karakterleri Değiştirme:\n",
    "\n",
    "Açıklama: Belirli bir karakteri veya karakter dizisini başka bir karakterle değiştirir."
   ]
  },
  {
   "cell_type": "code",
   "execution_count": 30,
   "id": "60327529",
   "metadata": {},
   "outputs": [
    {
     "name": "stdout",
     "output_type": "stream",
     "text": [
      "Selam, dünya!\n"
     ]
    }
   ],
   "source": [
    "text = \"Merhaba, dünya!\"\n",
    "replaced_text = text.replace(\"Merhaba\", \"Selam\")\n",
    "print(replaced_text)  # Çıktı: Selam, dünya!\n"
   ]
  },
  {
   "cell_type": "code",
   "execution_count": null,
   "id": "206adeb9",
   "metadata": {},
   "outputs": [],
   "source": [
    "22-split() - Stringi Ayırma:\n",
    "\n",
    "Açıklama: Bir stringi belirtilen bir ayırıcıya göre böler ve bir liste döndürür."
   ]
  },
  {
   "cell_type": "code",
   "execution_count": 31,
   "id": "b9a98617",
   "metadata": {},
   "outputs": [
    {
     "name": "stdout",
     "output_type": "stream",
     "text": [
      "['Python', 'Java', 'C++']\n"
     ]
    }
   ],
   "source": [
    "text = \"Python,Java,C++\"\n",
    "languages = text.split(\",\")\n",
    "print(languages)  # Çıktı: ['Python', 'Java', 'C++']\n"
   ]
  },
  {
   "cell_type": "code",
   "execution_count": null,
   "id": "34b84ebb",
   "metadata": {},
   "outputs": [],
   "source": [
    "23-startswith() - Başlangıç Kontrolü:\n",
    "\n",
    "Açıklama: Bir stringin belirli bir alt dizisi ile başlayıp başlamadığını kontrol eder."
   ]
  },
  {
   "cell_type": "code",
   "execution_count": null,
   "id": "ceb6c3fb",
   "metadata": {},
   "outputs": [],
   "source": [
    "text = \"Merhaba, dünya!\"\n",
    "starts_with = text.startswith(\"Merhaba\")\n",
    "print(starts_with)  # Çıktı: True\n"
   ]
  },
  {
   "cell_type": "markdown",
   "id": "148f3526",
   "metadata": {},
   "source": [
    "24-strip() - Boşlukları Temizleme:\n",
    "\n",
    "Açıklama: Bir stringin başındaki ve sonundaki boşlukları temizler."
   ]
  },
  {
   "cell_type": "code",
   "execution_count": 32,
   "id": "cdc97ac6",
   "metadata": {},
   "outputs": [
    {
     "name": "stdout",
     "output_type": "stream",
     "text": [
      "Merhaba, dünya!\n"
     ]
    }
   ],
   "source": [
    "text = \"   Merhaba, dünya!   \"\n",
    "stripped_text = text.strip()\n",
    "print(stripped_text)  # Çıktı: Merhaba, dünya!\n"
   ]
  },
  {
   "cell_type": "code",
   "execution_count": null,
   "id": "41377102",
   "metadata": {},
   "outputs": [],
   "source": [
    "25-swapcase() - Harf Büyüklüğünü Değiştirme:\n",
    "\n",
    "Açıklama: Bir stringin küçük harflerini büyük, büyük harflerini küçük yapar."
   ]
  },
  {
   "cell_type": "code",
   "execution_count": 33,
   "id": "398d9aa3",
   "metadata": {},
   "outputs": [
    {
     "name": "stdout",
     "output_type": "stream",
     "text": [
      "mERhABA, dÜnya!\n"
     ]
    }
   ],
   "source": [
    "text = \"MerHaba, DüNYA!\"\n",
    "swapped_case_text = text.swapcase()\n",
    "print(swapped_case_text)  # Çıktı: mERhABA, dünya!\n"
   ]
  },
  {
   "cell_type": "code",
   "execution_count": null,
   "id": "6dfd2754",
   "metadata": {},
   "outputs": [],
   "source": []
  }
 ],
 "metadata": {
  "kernelspec": {
   "display_name": "Python 3 (ipykernel)",
   "language": "python",
   "name": "python3"
  },
  "language_info": {
   "codemirror_mode": {
    "name": "ipython",
    "version": 3
   },
   "file_extension": ".py",
   "mimetype": "text/x-python",
   "name": "python",
   "nbconvert_exporter": "python",
   "pygments_lexer": "ipython3",
   "version": "3.11.5"
  }
 },
 "nbformat": 4,
 "nbformat_minor": 5
}
